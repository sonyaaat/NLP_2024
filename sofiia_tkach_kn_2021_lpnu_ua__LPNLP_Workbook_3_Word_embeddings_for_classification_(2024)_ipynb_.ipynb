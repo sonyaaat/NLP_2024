{
 "nbformat": 4,
 "nbformat_minor": 0,
 "metadata": {
  "kernelspec": {
   "display_name": "Python 3",
   "language": "python",
   "name": "python3"
  },
  "language_info": {
   "codemirror_mode": {
    "name": "ipython",
    "version": 3
   },
   "file_extension": ".py",
   "mimetype": "text/x-python",
   "name": "python",
   "nbconvert_exporter": "python",
   "pygments_lexer": "ipython3",
   "version": "3.7.6"
  },
  "colab": {
   "provenance": [],
   "collapsed_sections": [
    "xORrcb8ap_iv"
   ]
  },
  "widgets": {
   "application/vnd.jupyter.widget-state+json": {
    "c2a7b4e93d074ad2912f1c857eeb3d18": {
     "model_module": "@jupyter-widgets/controls",
     "model_name": "HBoxModel",
     "model_module_version": "1.5.0",
     "state": {
      "_dom_classes": [],
      "_model_module": "@jupyter-widgets/controls",
      "_model_module_version": "1.5.0",
      "_model_name": "HBoxModel",
      "_view_count": null,
      "_view_module": "@jupyter-widgets/controls",
      "_view_module_version": "1.5.0",
      "_view_name": "HBoxView",
      "box_style": "",
      "children": [
       "IPY_MODEL_857a33bc5a244041a78de22ed610ef15",
       "IPY_MODEL_aeffcee2070a4c20b3c16dc80891108b",
       "IPY_MODEL_8d2d0de3bc4c413d83dacb7751b23887"
      ],
      "layout": "IPY_MODEL_b0abf8a8e43844aa9a6ba4d5b90af5d0"
     }
    },
    "857a33bc5a244041a78de22ed610ef15": {
     "model_module": "@jupyter-widgets/controls",
     "model_name": "HTMLModel",
     "model_module_version": "1.5.0",
     "state": {
      "_dom_classes": [],
      "_model_module": "@jupyter-widgets/controls",
      "_model_module_version": "1.5.0",
      "_model_name": "HTMLModel",
      "_view_count": null,
      "_view_module": "@jupyter-widgets/controls",
      "_view_module_version": "1.5.0",
      "_view_name": "HTMLView",
      "description": "",
      "description_tooltip": null,
      "layout": "IPY_MODEL_a84aa3338de04eb9a4270904dea5a1a3",
      "placeholder": "​",
      "style": "IPY_MODEL_588d78dcb7ac4d679489544415019181",
      "value": "README.md: 100%"
     }
    },
    "aeffcee2070a4c20b3c16dc80891108b": {
     "model_module": "@jupyter-widgets/controls",
     "model_name": "FloatProgressModel",
     "model_module_version": "1.5.0",
     "state": {
      "_dom_classes": [],
      "_model_module": "@jupyter-widgets/controls",
      "_model_module_version": "1.5.0",
      "_model_name": "FloatProgressModel",
      "_view_count": null,
      "_view_module": "@jupyter-widgets/controls",
      "_view_module_version": "1.5.0",
      "_view_name": "ProgressView",
      "bar_style": "success",
      "description": "",
      "description_tooltip": null,
      "layout": "IPY_MODEL_2c1cc1e6d47e4d288a934ccf884db1be",
      "max": 7809,
      "min": 0,
      "orientation": "horizontal",
      "style": "IPY_MODEL_f988e94b67184e6c95bd261a89b92921",
      "value": 7809
     }
    },
    "8d2d0de3bc4c413d83dacb7751b23887": {
     "model_module": "@jupyter-widgets/controls",
     "model_name": "HTMLModel",
     "model_module_version": "1.5.0",
     "state": {
      "_dom_classes": [],
      "_model_module": "@jupyter-widgets/controls",
      "_model_module_version": "1.5.0",
      "_model_name": "HTMLModel",
      "_view_count": null,
      "_view_module": "@jupyter-widgets/controls",
      "_view_module_version": "1.5.0",
      "_view_name": "HTMLView",
      "description": "",
      "description_tooltip": null,
      "layout": "IPY_MODEL_1c5e4376adeb42898acb278ea579127f",
      "placeholder": "​",
      "style": "IPY_MODEL_c6ff633f38344a24b8296d54219731c0",
      "value": " 7.81k/7.81k [00:00&lt;00:00, 145kB/s]"
     }
    },
    "b0abf8a8e43844aa9a6ba4d5b90af5d0": {
     "model_module": "@jupyter-widgets/base",
     "model_name": "LayoutModel",
     "model_module_version": "1.2.0",
     "state": {
      "_model_module": "@jupyter-widgets/base",
      "_model_module_version": "1.2.0",
      "_model_name": "LayoutModel",
      "_view_count": null,
      "_view_module": "@jupyter-widgets/base",
      "_view_module_version": "1.2.0",
      "_view_name": "LayoutView",
      "align_content": null,
      "align_items": null,
      "align_self": null,
      "border": null,
      "bottom": null,
      "display": null,
      "flex": null,
      "flex_flow": null,
      "grid_area": null,
      "grid_auto_columns": null,
      "grid_auto_flow": null,
      "grid_auto_rows": null,
      "grid_column": null,
      "grid_gap": null,
      "grid_row": null,
      "grid_template_areas": null,
      "grid_template_columns": null,
      "grid_template_rows": null,
      "height": null,
      "justify_content": null,
      "justify_items": null,
      "left": null,
      "margin": null,
      "max_height": null,
      "max_width": null,
      "min_height": null,
      "min_width": null,
      "object_fit": null,
      "object_position": null,
      "order": null,
      "overflow": null,
      "overflow_x": null,
      "overflow_y": null,
      "padding": null,
      "right": null,
      "top": null,
      "visibility": null,
      "width": null
     }
    },
    "a84aa3338de04eb9a4270904dea5a1a3": {
     "model_module": "@jupyter-widgets/base",
     "model_name": "LayoutModel",
     "model_module_version": "1.2.0",
     "state": {
      "_model_module": "@jupyter-widgets/base",
      "_model_module_version": "1.2.0",
      "_model_name": "LayoutModel",
      "_view_count": null,
      "_view_module": "@jupyter-widgets/base",
      "_view_module_version": "1.2.0",
      "_view_name": "LayoutView",
      "align_content": null,
      "align_items": null,
      "align_self": null,
      "border": null,
      "bottom": null,
      "display": null,
      "flex": null,
      "flex_flow": null,
      "grid_area": null,
      "grid_auto_columns": null,
      "grid_auto_flow": null,
      "grid_auto_rows": null,
      "grid_column": null,
      "grid_gap": null,
      "grid_row": null,
      "grid_template_areas": null,
      "grid_template_columns": null,
      "grid_template_rows": null,
      "height": null,
      "justify_content": null,
      "justify_items": null,
      "left": null,
      "margin": null,
      "max_height": null,
      "max_width": null,
      "min_height": null,
      "min_width": null,
      "object_fit": null,
      "object_position": null,
      "order": null,
      "overflow": null,
      "overflow_x": null,
      "overflow_y": null,
      "padding": null,
      "right": null,
      "top": null,
      "visibility": null,
      "width": null
     }
    },
    "588d78dcb7ac4d679489544415019181": {
     "model_module": "@jupyter-widgets/controls",
     "model_name": "DescriptionStyleModel",
     "model_module_version": "1.5.0",
     "state": {
      "_model_module": "@jupyter-widgets/controls",
      "_model_module_version": "1.5.0",
      "_model_name": "DescriptionStyleModel",
      "_view_count": null,
      "_view_module": "@jupyter-widgets/base",
      "_view_module_version": "1.2.0",
      "_view_name": "StyleView",
      "description_width": ""
     }
    },
    "2c1cc1e6d47e4d288a934ccf884db1be": {
     "model_module": "@jupyter-widgets/base",
     "model_name": "LayoutModel",
     "model_module_version": "1.2.0",
     "state": {
      "_model_module": "@jupyter-widgets/base",
      "_model_module_version": "1.2.0",
      "_model_name": "LayoutModel",
      "_view_count": null,
      "_view_module": "@jupyter-widgets/base",
      "_view_module_version": "1.2.0",
      "_view_name": "LayoutView",
      "align_content": null,
      "align_items": null,
      "align_self": null,
      "border": null,
      "bottom": null,
      "display": null,
      "flex": null,
      "flex_flow": null,
      "grid_area": null,
      "grid_auto_columns": null,
      "grid_auto_flow": null,
      "grid_auto_rows": null,
      "grid_column": null,
      "grid_gap": null,
      "grid_row": null,
      "grid_template_areas": null,
      "grid_template_columns": null,
      "grid_template_rows": null,
      "height": null,
      "justify_content": null,
      "justify_items": null,
      "left": null,
      "margin": null,
      "max_height": null,
      "max_width": null,
      "min_height": null,
      "min_width": null,
      "object_fit": null,
      "object_position": null,
      "order": null,
      "overflow": null,
      "overflow_x": null,
      "overflow_y": null,
      "padding": null,
      "right": null,
      "top": null,
      "visibility": null,
      "width": null
     }
    },
    "f988e94b67184e6c95bd261a89b92921": {
     "model_module": "@jupyter-widgets/controls",
     "model_name": "ProgressStyleModel",
     "model_module_version": "1.5.0",
     "state": {
      "_model_module": "@jupyter-widgets/controls",
      "_model_module_version": "1.5.0",
      "_model_name": "ProgressStyleModel",
      "_view_count": null,
      "_view_module": "@jupyter-widgets/base",
      "_view_module_version": "1.2.0",
      "_view_name": "StyleView",
      "bar_color": null,
      "description_width": ""
     }
    },
    "1c5e4376adeb42898acb278ea579127f": {
     "model_module": "@jupyter-widgets/base",
     "model_name": "LayoutModel",
     "model_module_version": "1.2.0",
     "state": {
      "_model_module": "@jupyter-widgets/base",
      "_model_module_version": "1.2.0",
      "_model_name": "LayoutModel",
      "_view_count": null,
      "_view_module": "@jupyter-widgets/base",
      "_view_module_version": "1.2.0",
      "_view_name": "LayoutView",
      "align_content": null,
      "align_items": null,
      "align_self": null,
      "border": null,
      "bottom": null,
      "display": null,
      "flex": null,
      "flex_flow": null,
      "grid_area": null,
      "grid_auto_columns": null,
      "grid_auto_flow": null,
      "grid_auto_rows": null,
      "grid_column": null,
      "grid_gap": null,
      "grid_row": null,
      "grid_template_areas": null,
      "grid_template_columns": null,
      "grid_template_rows": null,
      "height": null,
      "justify_content": null,
      "justify_items": null,
      "left": null,
      "margin": null,
      "max_height": null,
      "max_width": null,
      "min_height": null,
      "min_width": null,
      "object_fit": null,
      "object_position": null,
      "order": null,
      "overflow": null,
      "overflow_x": null,
      "overflow_y": null,
      "padding": null,
      "right": null,
      "top": null,
      "visibility": null,
      "width": null
     }
    },
    "c6ff633f38344a24b8296d54219731c0": {
     "model_module": "@jupyter-widgets/controls",
     "model_name": "DescriptionStyleModel",
     "model_module_version": "1.5.0",
     "state": {
      "_model_module": "@jupyter-widgets/controls",
      "_model_module_version": "1.5.0",
      "_model_name": "DescriptionStyleModel",
      "_view_count": null,
      "_view_module": "@jupyter-widgets/base",
      "_view_module_version": "1.2.0",
      "_view_name": "StyleView",
      "description_width": ""
     }
    },
    "02eeca3241124556b3d57cc13cf0aa06": {
     "model_module": "@jupyter-widgets/controls",
     "model_name": "HBoxModel",
     "model_module_version": "1.5.0",
     "state": {
      "_dom_classes": [],
      "_model_module": "@jupyter-widgets/controls",
      "_model_module_version": "1.5.0",
      "_model_name": "HBoxModel",
      "_view_count": null,
      "_view_module": "@jupyter-widgets/controls",
      "_view_module_version": "1.5.0",
      "_view_name": "HBoxView",
      "box_style": "",
      "children": [
       "IPY_MODEL_19cc5e2932434793bd272978fbc8b01a",
       "IPY_MODEL_12f9616cf18f4e4d8325381245d50c27",
       "IPY_MODEL_6be2b189460a4bccbfa1b5442bf48d73"
      ],
      "layout": "IPY_MODEL_acd5ecaabd3742d4b32f42ee3b616a96"
     }
    },
    "19cc5e2932434793bd272978fbc8b01a": {
     "model_module": "@jupyter-widgets/controls",
     "model_name": "HTMLModel",
     "model_module_version": "1.5.0",
     "state": {
      "_dom_classes": [],
      "_model_module": "@jupyter-widgets/controls",
      "_model_module_version": "1.5.0",
      "_model_name": "HTMLModel",
      "_view_count": null,
      "_view_module": "@jupyter-widgets/controls",
      "_view_module_version": "1.5.0",
      "_view_name": "HTMLView",
      "description": "",
      "description_tooltip": null,
      "layout": "IPY_MODEL_7a6de968ddf847548ff108bd87ecb980",
      "placeholder": "​",
      "style": "IPY_MODEL_b535da5d7f2e497bb731bd00e4931c0a",
      "value": "train-00000-of-00001.parquet: 100%"
     }
    },
    "12f9616cf18f4e4d8325381245d50c27": {
     "model_module": "@jupyter-widgets/controls",
     "model_name": "FloatProgressModel",
     "model_module_version": "1.5.0",
     "state": {
      "_dom_classes": [],
      "_model_module": "@jupyter-widgets/controls",
      "_model_module_version": "1.5.0",
      "_model_name": "FloatProgressModel",
      "_view_count": null,
      "_view_module": "@jupyter-widgets/controls",
      "_view_module_version": "1.5.0",
      "_view_name": "ProgressView",
      "bar_style": "success",
      "description": "",
      "description_tooltip": null,
      "layout": "IPY_MODEL_e96b0d4766e748c3b53e3712b24ff45f",
      "max": 20979968,
      "min": 0,
      "orientation": "horizontal",
      "style": "IPY_MODEL_414250ab859b49af8a372be58dc8e486",
      "value": 20979968
     }
    },
    "6be2b189460a4bccbfa1b5442bf48d73": {
     "model_module": "@jupyter-widgets/controls",
     "model_name": "HTMLModel",
     "model_module_version": "1.5.0",
     "state": {
      "_dom_classes": [],
      "_model_module": "@jupyter-widgets/controls",
      "_model_module_version": "1.5.0",
      "_model_name": "HTMLModel",
      "_view_count": null,
      "_view_module": "@jupyter-widgets/controls",
      "_view_module_version": "1.5.0",
      "_view_name": "HTMLView",
      "description": "",
      "description_tooltip": null,
      "layout": "IPY_MODEL_704e1c81bca5494393b7c217b411d9dd",
      "placeholder": "​",
      "style": "IPY_MODEL_7a35f3faf83041a18f3c9235480e3d3b",
      "value": " 21.0M/21.0M [00:00&lt;00:00, 40.0MB/s]"
     }
    },
    "acd5ecaabd3742d4b32f42ee3b616a96": {
     "model_module": "@jupyter-widgets/base",
     "model_name": "LayoutModel",
     "model_module_version": "1.2.0",
     "state": {
      "_model_module": "@jupyter-widgets/base",
      "_model_module_version": "1.2.0",
      "_model_name": "LayoutModel",
      "_view_count": null,
      "_view_module": "@jupyter-widgets/base",
      "_view_module_version": "1.2.0",
      "_view_name": "LayoutView",
      "align_content": null,
      "align_items": null,
      "align_self": null,
      "border": null,
      "bottom": null,
      "display": null,
      "flex": null,
      "flex_flow": null,
      "grid_area": null,
      "grid_auto_columns": null,
      "grid_auto_flow": null,
      "grid_auto_rows": null,
      "grid_column": null,
      "grid_gap": null,
      "grid_row": null,
      "grid_template_areas": null,
      "grid_template_columns": null,
      "grid_template_rows": null,
      "height": null,
      "justify_content": null,
      "justify_items": null,
      "left": null,
      "margin": null,
      "max_height": null,
      "max_width": null,
      "min_height": null,
      "min_width": null,
      "object_fit": null,
      "object_position": null,
      "order": null,
      "overflow": null,
      "overflow_x": null,
      "overflow_y": null,
      "padding": null,
      "right": null,
      "top": null,
      "visibility": null,
      "width": null
     }
    },
    "7a6de968ddf847548ff108bd87ecb980": {
     "model_module": "@jupyter-widgets/base",
     "model_name": "LayoutModel",
     "model_module_version": "1.2.0",
     "state": {
      "_model_module": "@jupyter-widgets/base",
      "_model_module_version": "1.2.0",
      "_model_name": "LayoutModel",
      "_view_count": null,
      "_view_module": "@jupyter-widgets/base",
      "_view_module_version": "1.2.0",
      "_view_name": "LayoutView",
      "align_content": null,
      "align_items": null,
      "align_self": null,
      "border": null,
      "bottom": null,
      "display": null,
      "flex": null,
      "flex_flow": null,
      "grid_area": null,
      "grid_auto_columns": null,
      "grid_auto_flow": null,
      "grid_auto_rows": null,
      "grid_column": null,
      "grid_gap": null,
      "grid_row": null,
      "grid_template_areas": null,
      "grid_template_columns": null,
      "grid_template_rows": null,
      "height": null,
      "justify_content": null,
      "justify_items": null,
      "left": null,
      "margin": null,
      "max_height": null,
      "max_width": null,
      "min_height": null,
      "min_width": null,
      "object_fit": null,
      "object_position": null,
      "order": null,
      "overflow": null,
      "overflow_x": null,
      "overflow_y": null,
      "padding": null,
      "right": null,
      "top": null,
      "visibility": null,
      "width": null
     }
    },
    "b535da5d7f2e497bb731bd00e4931c0a": {
     "model_module": "@jupyter-widgets/controls",
     "model_name": "DescriptionStyleModel",
     "model_module_version": "1.5.0",
     "state": {
      "_model_module": "@jupyter-widgets/controls",
      "_model_module_version": "1.5.0",
      "_model_name": "DescriptionStyleModel",
      "_view_count": null,
      "_view_module": "@jupyter-widgets/base",
      "_view_module_version": "1.2.0",
      "_view_name": "StyleView",
      "description_width": ""
     }
    },
    "e96b0d4766e748c3b53e3712b24ff45f": {
     "model_module": "@jupyter-widgets/base",
     "model_name": "LayoutModel",
     "model_module_version": "1.2.0",
     "state": {
      "_model_module": "@jupyter-widgets/base",
      "_model_module_version": "1.2.0",
      "_model_name": "LayoutModel",
      "_view_count": null,
      "_view_module": "@jupyter-widgets/base",
      "_view_module_version": "1.2.0",
      "_view_name": "LayoutView",
      "align_content": null,
      "align_items": null,
      "align_self": null,
      "border": null,
      "bottom": null,
      "display": null,
      "flex": null,
      "flex_flow": null,
      "grid_area": null,
      "grid_auto_columns": null,
      "grid_auto_flow": null,
      "grid_auto_rows": null,
      "grid_column": null,
      "grid_gap": null,
      "grid_row": null,
      "grid_template_areas": null,
      "grid_template_columns": null,
      "grid_template_rows": null,
      "height": null,
      "justify_content": null,
      "justify_items": null,
      "left": null,
      "margin": null,
      "max_height": null,
      "max_width": null,
      "min_height": null,
      "min_width": null,
      "object_fit": null,
      "object_position": null,
      "order": null,
      "overflow": null,
      "overflow_x": null,
      "overflow_y": null,
      "padding": null,
      "right": null,
      "top": null,
      "visibility": null,
      "width": null
     }
    },
    "414250ab859b49af8a372be58dc8e486": {
     "model_module": "@jupyter-widgets/controls",
     "model_name": "ProgressStyleModel",
     "model_module_version": "1.5.0",
     "state": {
      "_model_module": "@jupyter-widgets/controls",
      "_model_module_version": "1.5.0",
      "_model_name": "ProgressStyleModel",
      "_view_count": null,
      "_view_module": "@jupyter-widgets/base",
      "_view_module_version": "1.2.0",
      "_view_name": "StyleView",
      "bar_color": null,
      "description_width": ""
     }
    },
    "704e1c81bca5494393b7c217b411d9dd": {
     "model_module": "@jupyter-widgets/base",
     "model_name": "LayoutModel",
     "model_module_version": "1.2.0",
     "state": {
      "_model_module": "@jupyter-widgets/base",
      "_model_module_version": "1.2.0",
      "_model_name": "LayoutModel",
      "_view_count": null,
      "_view_module": "@jupyter-widgets/base",
      "_view_module_version": "1.2.0",
      "_view_name": "LayoutView",
      "align_content": null,
      "align_items": null,
      "align_self": null,
      "border": null,
      "bottom": null,
      "display": null,
      "flex": null,
      "flex_flow": null,
      "grid_area": null,
      "grid_auto_columns": null,
      "grid_auto_flow": null,
      "grid_auto_rows": null,
      "grid_column": null,
      "grid_gap": null,
      "grid_row": null,
      "grid_template_areas": null,
      "grid_template_columns": null,
      "grid_template_rows": null,
      "height": null,
      "justify_content": null,
      "justify_items": null,
      "left": null,
      "margin": null,
      "max_height": null,
      "max_width": null,
      "min_height": null,
      "min_width": null,
      "object_fit": null,
      "object_position": null,
      "order": null,
      "overflow": null,
      "overflow_x": null,
      "overflow_y": null,
      "padding": null,
      "right": null,
      "top": null,
      "visibility": null,
      "width": null
     }
    },
    "7a35f3faf83041a18f3c9235480e3d3b": {
     "model_module": "@jupyter-widgets/controls",
     "model_name": "DescriptionStyleModel",
     "model_module_version": "1.5.0",
     "state": {
      "_model_module": "@jupyter-widgets/controls",
      "_model_module_version": "1.5.0",
      "_model_name": "DescriptionStyleModel",
      "_view_count": null,
      "_view_module": "@jupyter-widgets/base",
      "_view_module_version": "1.2.0",
      "_view_name": "StyleView",
      "description_width": ""
     }
    },
    "95f16a7a721d44498d0d5b1d19aed2a1": {
     "model_module": "@jupyter-widgets/controls",
     "model_name": "HBoxModel",
     "model_module_version": "1.5.0",
     "state": {
      "_dom_classes": [],
      "_model_module": "@jupyter-widgets/controls",
      "_model_module_version": "1.5.0",
      "_model_name": "HBoxModel",
      "_view_count": null,
      "_view_module": "@jupyter-widgets/controls",
      "_view_module_version": "1.5.0",
      "_view_name": "HBoxView",
      "box_style": "",
      "children": [
       "IPY_MODEL_c5d949a25b074839b63f1b70317c8a1f",
       "IPY_MODEL_cb2e3907b70f42da8805802127cbae57",
       "IPY_MODEL_628df01c2c3a47c3b0294d5799dd0b56"
      ],
      "layout": "IPY_MODEL_4d9b9a1eafa14613a04400d687bdff25"
     }
    },
    "c5d949a25b074839b63f1b70317c8a1f": {
     "model_module": "@jupyter-widgets/controls",
     "model_name": "HTMLModel",
     "model_module_version": "1.5.0",
     "state": {
      "_dom_classes": [],
      "_model_module": "@jupyter-widgets/controls",
      "_model_module_version": "1.5.0",
      "_model_name": "HTMLModel",
      "_view_count": null,
      "_view_module": "@jupyter-widgets/controls",
      "_view_module_version": "1.5.0",
      "_view_name": "HTMLView",
      "description": "",
      "description_tooltip": null,
      "layout": "IPY_MODEL_a7305483287e403cad970645dd588796",
      "placeholder": "​",
      "style": "IPY_MODEL_e89b828aa2a44505a3ea966482617ff0",
      "value": "test-00000-of-00001.parquet: 100%"
     }
    },
    "cb2e3907b70f42da8805802127cbae57": {
     "model_module": "@jupyter-widgets/controls",
     "model_name": "FloatProgressModel",
     "model_module_version": "1.5.0",
     "state": {
      "_dom_classes": [],
      "_model_module": "@jupyter-widgets/controls",
      "_model_module_version": "1.5.0",
      "_model_name": "FloatProgressModel",
      "_view_count": null,
      "_view_module": "@jupyter-widgets/controls",
      "_view_module_version": "1.5.0",
      "_view_name": "ProgressView",
      "bar_style": "success",
      "description": "",
      "description_tooltip": null,
      "layout": "IPY_MODEL_4b6e93844da8423798663ca32d3b649b",
      "max": 20470363,
      "min": 0,
      "orientation": "horizontal",
      "style": "IPY_MODEL_13d6e3485c4540fd832fa83067847d17",
      "value": 20470363
     }
    },
    "628df01c2c3a47c3b0294d5799dd0b56": {
     "model_module": "@jupyter-widgets/controls",
     "model_name": "HTMLModel",
     "model_module_version": "1.5.0",
     "state": {
      "_dom_classes": [],
      "_model_module": "@jupyter-widgets/controls",
      "_model_module_version": "1.5.0",
      "_model_name": "HTMLModel",
      "_view_count": null,
      "_view_module": "@jupyter-widgets/controls",
      "_view_module_version": "1.5.0",
      "_view_name": "HTMLView",
      "description": "",
      "description_tooltip": null,
      "layout": "IPY_MODEL_4ea592430f394257b17f51b4cbbfe92f",
      "placeholder": "​",
      "style": "IPY_MODEL_28bfa3ac3855492ea9d2c746ded0b0fe",
      "value": " 20.5M/20.5M [00:00&lt;00:00, 57.5MB/s]"
     }
    },
    "4d9b9a1eafa14613a04400d687bdff25": {
     "model_module": "@jupyter-widgets/base",
     "model_name": "LayoutModel",
     "model_module_version": "1.2.0",
     "state": {
      "_model_module": "@jupyter-widgets/base",
      "_model_module_version": "1.2.0",
      "_model_name": "LayoutModel",
      "_view_count": null,
      "_view_module": "@jupyter-widgets/base",
      "_view_module_version": "1.2.0",
      "_view_name": "LayoutView",
      "align_content": null,
      "align_items": null,
      "align_self": null,
      "border": null,
      "bottom": null,
      "display": null,
      "flex": null,
      "flex_flow": null,
      "grid_area": null,
      "grid_auto_columns": null,
      "grid_auto_flow": null,
      "grid_auto_rows": null,
      "grid_column": null,
      "grid_gap": null,
      "grid_row": null,
      "grid_template_areas": null,
      "grid_template_columns": null,
      "grid_template_rows": null,
      "height": null,
      "justify_content": null,
      "justify_items": null,
      "left": null,
      "margin": null,
      "max_height": null,
      "max_width": null,
      "min_height": null,
      "min_width": null,
      "object_fit": null,
      "object_position": null,
      "order": null,
      "overflow": null,
      "overflow_x": null,
      "overflow_y": null,
      "padding": null,
      "right": null,
      "top": null,
      "visibility": null,
      "width": null
     }
    },
    "a7305483287e403cad970645dd588796": {
     "model_module": "@jupyter-widgets/base",
     "model_name": "LayoutModel",
     "model_module_version": "1.2.0",
     "state": {
      "_model_module": "@jupyter-widgets/base",
      "_model_module_version": "1.2.0",
      "_model_name": "LayoutModel",
      "_view_count": null,
      "_view_module": "@jupyter-widgets/base",
      "_view_module_version": "1.2.0",
      "_view_name": "LayoutView",
      "align_content": null,
      "align_items": null,
      "align_self": null,
      "border": null,
      "bottom": null,
      "display": null,
      "flex": null,
      "flex_flow": null,
      "grid_area": null,
      "grid_auto_columns": null,
      "grid_auto_flow": null,
      "grid_auto_rows": null,
      "grid_column": null,
      "grid_gap": null,
      "grid_row": null,
      "grid_template_areas": null,
      "grid_template_columns": null,
      "grid_template_rows": null,
      "height": null,
      "justify_content": null,
      "justify_items": null,
      "left": null,
      "margin": null,
      "max_height": null,
      "max_width": null,
      "min_height": null,
      "min_width": null,
      "object_fit": null,
      "object_position": null,
      "order": null,
      "overflow": null,
      "overflow_x": null,
      "overflow_y": null,
      "padding": null,
      "right": null,
      "top": null,
      "visibility": null,
      "width": null
     }
    },
    "e89b828aa2a44505a3ea966482617ff0": {
     "model_module": "@jupyter-widgets/controls",
     "model_name": "DescriptionStyleModel",
     "model_module_version": "1.5.0",
     "state": {
      "_model_module": "@jupyter-widgets/controls",
      "_model_module_version": "1.5.0",
      "_model_name": "DescriptionStyleModel",
      "_view_count": null,
      "_view_module": "@jupyter-widgets/base",
      "_view_module_version": "1.2.0",
      "_view_name": "StyleView",
      "description_width": ""
     }
    },
    "4b6e93844da8423798663ca32d3b649b": {
     "model_module": "@jupyter-widgets/base",
     "model_name": "LayoutModel",
     "model_module_version": "1.2.0",
     "state": {
      "_model_module": "@jupyter-widgets/base",
      "_model_module_version": "1.2.0",
      "_model_name": "LayoutModel",
      "_view_count": null,
      "_view_module": "@jupyter-widgets/base",
      "_view_module_version": "1.2.0",
      "_view_name": "LayoutView",
      "align_content": null,
      "align_items": null,
      "align_self": null,
      "border": null,
      "bottom": null,
      "display": null,
      "flex": null,
      "flex_flow": null,
      "grid_area": null,
      "grid_auto_columns": null,
      "grid_auto_flow": null,
      "grid_auto_rows": null,
      "grid_column": null,
      "grid_gap": null,
      "grid_row": null,
      "grid_template_areas": null,
      "grid_template_columns": null,
      "grid_template_rows": null,
      "height": null,
      "justify_content": null,
      "justify_items": null,
      "left": null,
      "margin": null,
      "max_height": null,
      "max_width": null,
      "min_height": null,
      "min_width": null,
      "object_fit": null,
      "object_position": null,
      "order": null,
      "overflow": null,
      "overflow_x": null,
      "overflow_y": null,
      "padding": null,
      "right": null,
      "top": null,
      "visibility": null,
      "width": null
     }
    },
    "13d6e3485c4540fd832fa83067847d17": {
     "model_module": "@jupyter-widgets/controls",
     "model_name": "ProgressStyleModel",
     "model_module_version": "1.5.0",
     "state": {
      "_model_module": "@jupyter-widgets/controls",
      "_model_module_version": "1.5.0",
      "_model_name": "ProgressStyleModel",
      "_view_count": null,
      "_view_module": "@jupyter-widgets/base",
      "_view_module_version": "1.2.0",
      "_view_name": "StyleView",
      "bar_color": null,
      "description_width": ""
     }
    },
    "4ea592430f394257b17f51b4cbbfe92f": {
     "model_module": "@jupyter-widgets/base",
     "model_name": "LayoutModel",
     "model_module_version": "1.2.0",
     "state": {
      "_model_module": "@jupyter-widgets/base",
      "_model_module_version": "1.2.0",
      "_model_name": "LayoutModel",
      "_view_count": null,
      "_view_module": "@jupyter-widgets/base",
      "_view_module_version": "1.2.0",
      "_view_name": "LayoutView",
      "align_content": null,
      "align_items": null,
      "align_self": null,
      "border": null,
      "bottom": null,
      "display": null,
      "flex": null,
      "flex_flow": null,
      "grid_area": null,
      "grid_auto_columns": null,
      "grid_auto_flow": null,
      "grid_auto_rows": null,
      "grid_column": null,
      "grid_gap": null,
      "grid_row": null,
      "grid_template_areas": null,
      "grid_template_columns": null,
      "grid_template_rows": null,
      "height": null,
      "justify_content": null,
      "justify_items": null,
      "left": null,
      "margin": null,
      "max_height": null,
      "max_width": null,
      "min_height": null,
      "min_width": null,
      "object_fit": null,
      "object_position": null,
      "order": null,
      "overflow": null,
      "overflow_x": null,
      "overflow_y": null,
      "padding": null,
      "right": null,
      "top": null,
      "visibility": null,
      "width": null
     }
    },
    "28bfa3ac3855492ea9d2c746ded0b0fe": {
     "model_module": "@jupyter-widgets/controls",
     "model_name": "DescriptionStyleModel",
     "model_module_version": "1.5.0",
     "state": {
      "_model_module": "@jupyter-widgets/controls",
      "_model_module_version": "1.5.0",
      "_model_name": "DescriptionStyleModel",
      "_view_count": null,
      "_view_module": "@jupyter-widgets/base",
      "_view_module_version": "1.2.0",
      "_view_name": "StyleView",
      "description_width": ""
     }
    },
    "fde919f9934f4e22b662a43472274285": {
     "model_module": "@jupyter-widgets/controls",
     "model_name": "HBoxModel",
     "model_module_version": "1.5.0",
     "state": {
      "_dom_classes": [],
      "_model_module": "@jupyter-widgets/controls",
      "_model_module_version": "1.5.0",
      "_model_name": "HBoxModel",
      "_view_count": null,
      "_view_module": "@jupyter-widgets/controls",
      "_view_module_version": "1.5.0",
      "_view_name": "HBoxView",
      "box_style": "",
      "children": [
       "IPY_MODEL_3e0d4fba1b5c4326a6f283a41d18fd60",
       "IPY_MODEL_f048a1a2401849cd8b7ec3b89caf1e86",
       "IPY_MODEL_e021a11bf2174633b3a617b3aee1a834"
      ],
      "layout": "IPY_MODEL_bf26c3706bf9467f9452438bfb72bad3"
     }
    },
    "3e0d4fba1b5c4326a6f283a41d18fd60": {
     "model_module": "@jupyter-widgets/controls",
     "model_name": "HTMLModel",
     "model_module_version": "1.5.0",
     "state": {
      "_dom_classes": [],
      "_model_module": "@jupyter-widgets/controls",
      "_model_module_version": "1.5.0",
      "_model_name": "HTMLModel",
      "_view_count": null,
      "_view_module": "@jupyter-widgets/controls",
      "_view_module_version": "1.5.0",
      "_view_name": "HTMLView",
      "description": "",
      "description_tooltip": null,
      "layout": "IPY_MODEL_b9a42ff1be5243008d860e412456ce15",
      "placeholder": "​",
      "style": "IPY_MODEL_cbed49f96e40483382747a8a94b88233",
      "value": "unsupervised-00000-of-00001.parquet: 100%"
     }
    },
    "f048a1a2401849cd8b7ec3b89caf1e86": {
     "model_module": "@jupyter-widgets/controls",
     "model_name": "FloatProgressModel",
     "model_module_version": "1.5.0",
     "state": {
      "_dom_classes": [],
      "_model_module": "@jupyter-widgets/controls",
      "_model_module_version": "1.5.0",
      "_model_name": "FloatProgressModel",
      "_view_count": null,
      "_view_module": "@jupyter-widgets/controls",
      "_view_module_version": "1.5.0",
      "_view_name": "ProgressView",
      "bar_style": "success",
      "description": "",
      "description_tooltip": null,
      "layout": "IPY_MODEL_a7dc13ac8b9f4c7f9b58916bb0619306",
      "max": 41996509,
      "min": 0,
      "orientation": "horizontal",
      "style": "IPY_MODEL_b768bb7a80654dc295ff6ee500edc7de",
      "value": 41996509
     }
    },
    "e021a11bf2174633b3a617b3aee1a834": {
     "model_module": "@jupyter-widgets/controls",
     "model_name": "HTMLModel",
     "model_module_version": "1.5.0",
     "state": {
      "_dom_classes": [],
      "_model_module": "@jupyter-widgets/controls",
      "_model_module_version": "1.5.0",
      "_model_name": "HTMLModel",
      "_view_count": null,
      "_view_module": "@jupyter-widgets/controls",
      "_view_module_version": "1.5.0",
      "_view_name": "HTMLView",
      "description": "",
      "description_tooltip": null,
      "layout": "IPY_MODEL_177a1a846d5440e7b67a774c26ee8b0e",
      "placeholder": "​",
      "style": "IPY_MODEL_d46b1c9c077a4d9591488b35997345f3",
      "value": " 42.0M/42.0M [00:00&lt;00:00, 44.4MB/s]"
     }
    },
    "bf26c3706bf9467f9452438bfb72bad3": {
     "model_module": "@jupyter-widgets/base",
     "model_name": "LayoutModel",
     "model_module_version": "1.2.0",
     "state": {
      "_model_module": "@jupyter-widgets/base",
      "_model_module_version": "1.2.0",
      "_model_name": "LayoutModel",
      "_view_count": null,
      "_view_module": "@jupyter-widgets/base",
      "_view_module_version": "1.2.0",
      "_view_name": "LayoutView",
      "align_content": null,
      "align_items": null,
      "align_self": null,
      "border": null,
      "bottom": null,
      "display": null,
      "flex": null,
      "flex_flow": null,
      "grid_area": null,
      "grid_auto_columns": null,
      "grid_auto_flow": null,
      "grid_auto_rows": null,
      "grid_column": null,
      "grid_gap": null,
      "grid_row": null,
      "grid_template_areas": null,
      "grid_template_columns": null,
      "grid_template_rows": null,
      "height": null,
      "justify_content": null,
      "justify_items": null,
      "left": null,
      "margin": null,
      "max_height": null,
      "max_width": null,
      "min_height": null,
      "min_width": null,
      "object_fit": null,
      "object_position": null,
      "order": null,
      "overflow": null,
      "overflow_x": null,
      "overflow_y": null,
      "padding": null,
      "right": null,
      "top": null,
      "visibility": null,
      "width": null
     }
    },
    "b9a42ff1be5243008d860e412456ce15": {
     "model_module": "@jupyter-widgets/base",
     "model_name": "LayoutModel",
     "model_module_version": "1.2.0",
     "state": {
      "_model_module": "@jupyter-widgets/base",
      "_model_module_version": "1.2.0",
      "_model_name": "LayoutModel",
      "_view_count": null,
      "_view_module": "@jupyter-widgets/base",
      "_view_module_version": "1.2.0",
      "_view_name": "LayoutView",
      "align_content": null,
      "align_items": null,
      "align_self": null,
      "border": null,
      "bottom": null,
      "display": null,
      "flex": null,
      "flex_flow": null,
      "grid_area": null,
      "grid_auto_columns": null,
      "grid_auto_flow": null,
      "grid_auto_rows": null,
      "grid_column": null,
      "grid_gap": null,
      "grid_row": null,
      "grid_template_areas": null,
      "grid_template_columns": null,
      "grid_template_rows": null,
      "height": null,
      "justify_content": null,
      "justify_items": null,
      "left": null,
      "margin": null,
      "max_height": null,
      "max_width": null,
      "min_height": null,
      "min_width": null,
      "object_fit": null,
      "object_position": null,
      "order": null,
      "overflow": null,
      "overflow_x": null,
      "overflow_y": null,
      "padding": null,
      "right": null,
      "top": null,
      "visibility": null,
      "width": null
     }
    },
    "cbed49f96e40483382747a8a94b88233": {
     "model_module": "@jupyter-widgets/controls",
     "model_name": "DescriptionStyleModel",
     "model_module_version": "1.5.0",
     "state": {
      "_model_module": "@jupyter-widgets/controls",
      "_model_module_version": "1.5.0",
      "_model_name": "DescriptionStyleModel",
      "_view_count": null,
      "_view_module": "@jupyter-widgets/base",
      "_view_module_version": "1.2.0",
      "_view_name": "StyleView",
      "description_width": ""
     }
    },
    "a7dc13ac8b9f4c7f9b58916bb0619306": {
     "model_module": "@jupyter-widgets/base",
     "model_name": "LayoutModel",
     "model_module_version": "1.2.0",
     "state": {
      "_model_module": "@jupyter-widgets/base",
      "_model_module_version": "1.2.0",
      "_model_name": "LayoutModel",
      "_view_count": null,
      "_view_module": "@jupyter-widgets/base",
      "_view_module_version": "1.2.0",
      "_view_name": "LayoutView",
      "align_content": null,
      "align_items": null,
      "align_self": null,
      "border": null,
      "bottom": null,
      "display": null,
      "flex": null,
      "flex_flow": null,
      "grid_area": null,
      "grid_auto_columns": null,
      "grid_auto_flow": null,
      "grid_auto_rows": null,
      "grid_column": null,
      "grid_gap": null,
      "grid_row": null,
      "grid_template_areas": null,
      "grid_template_columns": null,
      "grid_template_rows": null,
      "height": null,
      "justify_content": null,
      "justify_items": null,
      "left": null,
      "margin": null,
      "max_height": null,
      "max_width": null,
      "min_height": null,
      "min_width": null,
      "object_fit": null,
      "object_position": null,
      "order": null,
      "overflow": null,
      "overflow_x": null,
      "overflow_y": null,
      "padding": null,
      "right": null,
      "top": null,
      "visibility": null,
      "width": null
     }
    },
    "b768bb7a80654dc295ff6ee500edc7de": {
     "model_module": "@jupyter-widgets/controls",
     "model_name": "ProgressStyleModel",
     "model_module_version": "1.5.0",
     "state": {
      "_model_module": "@jupyter-widgets/controls",
      "_model_module_version": "1.5.0",
      "_model_name": "ProgressStyleModel",
      "_view_count": null,
      "_view_module": "@jupyter-widgets/base",
      "_view_module_version": "1.2.0",
      "_view_name": "StyleView",
      "bar_color": null,
      "description_width": ""
     }
    },
    "177a1a846d5440e7b67a774c26ee8b0e": {
     "model_module": "@jupyter-widgets/base",
     "model_name": "LayoutModel",
     "model_module_version": "1.2.0",
     "state": {
      "_model_module": "@jupyter-widgets/base",
      "_model_module_version": "1.2.0",
      "_model_name": "LayoutModel",
      "_view_count": null,
      "_view_module": "@jupyter-widgets/base",
      "_view_module_version": "1.2.0",
      "_view_name": "LayoutView",
      "align_content": null,
      "align_items": null,
      "align_self": null,
      "border": null,
      "bottom": null,
      "display": null,
      "flex": null,
      "flex_flow": null,
      "grid_area": null,
      "grid_auto_columns": null,
      "grid_auto_flow": null,
      "grid_auto_rows": null,
      "grid_column": null,
      "grid_gap": null,
      "grid_row": null,
      "grid_template_areas": null,
      "grid_template_columns": null,
      "grid_template_rows": null,
      "height": null,
      "justify_content": null,
      "justify_items": null,
      "left": null,
      "margin": null,
      "max_height": null,
      "max_width": null,
      "min_height": null,
      "min_width": null,
      "object_fit": null,
      "object_position": null,
      "order": null,
      "overflow": null,
      "overflow_x": null,
      "overflow_y": null,
      "padding": null,
      "right": null,
      "top": null,
      "visibility": null,
      "width": null
     }
    },
    "d46b1c9c077a4d9591488b35997345f3": {
     "model_module": "@jupyter-widgets/controls",
     "model_name": "DescriptionStyleModel",
     "model_module_version": "1.5.0",
     "state": {
      "_model_module": "@jupyter-widgets/controls",
      "_model_module_version": "1.5.0",
      "_model_name": "DescriptionStyleModel",
      "_view_count": null,
      "_view_module": "@jupyter-widgets/base",
      "_view_module_version": "1.2.0",
      "_view_name": "StyleView",
      "description_width": ""
     }
    },
    "52fbdaf76b4e4b53a4191619a87feef0": {
     "model_module": "@jupyter-widgets/controls",
     "model_name": "HBoxModel",
     "model_module_version": "1.5.0",
     "state": {
      "_dom_classes": [],
      "_model_module": "@jupyter-widgets/controls",
      "_model_module_version": "1.5.0",
      "_model_name": "HBoxModel",
      "_view_count": null,
      "_view_module": "@jupyter-widgets/controls",
      "_view_module_version": "1.5.0",
      "_view_name": "HBoxView",
      "box_style": "",
      "children": [
       "IPY_MODEL_a1866c367efa4105ab21c9da64960c3f",
       "IPY_MODEL_4936dfe93d5c495f916a981a9ae65051",
       "IPY_MODEL_b552b96237774851bd6d183776fa5c45"
      ],
      "layout": "IPY_MODEL_794169c6d1494968bc0258a4e7bd959e"
     }
    },
    "a1866c367efa4105ab21c9da64960c3f": {
     "model_module": "@jupyter-widgets/controls",
     "model_name": "HTMLModel",
     "model_module_version": "1.5.0",
     "state": {
      "_dom_classes": [],
      "_model_module": "@jupyter-widgets/controls",
      "_model_module_version": "1.5.0",
      "_model_name": "HTMLModel",
      "_view_count": null,
      "_view_module": "@jupyter-widgets/controls",
      "_view_module_version": "1.5.0",
      "_view_name": "HTMLView",
      "description": "",
      "description_tooltip": null,
      "layout": "IPY_MODEL_ff7f4a6aca2a4550ae5e50299a554678",
      "placeholder": "​",
      "style": "IPY_MODEL_bf97c117ea0d4ffc92c7d33d3938217a",
      "value": "Generating train split: 100%"
     }
    },
    "4936dfe93d5c495f916a981a9ae65051": {
     "model_module": "@jupyter-widgets/controls",
     "model_name": "FloatProgressModel",
     "model_module_version": "1.5.0",
     "state": {
      "_dom_classes": [],
      "_model_module": "@jupyter-widgets/controls",
      "_model_module_version": "1.5.0",
      "_model_name": "FloatProgressModel",
      "_view_count": null,
      "_view_module": "@jupyter-widgets/controls",
      "_view_module_version": "1.5.0",
      "_view_name": "ProgressView",
      "bar_style": "success",
      "description": "",
      "description_tooltip": null,
      "layout": "IPY_MODEL_4b7013281fb34840a01fc986e67c65d5",
      "max": 25000,
      "min": 0,
      "orientation": "horizontal",
      "style": "IPY_MODEL_ecc601fe017744279752a53253ba49c9",
      "value": 25000
     }
    },
    "b552b96237774851bd6d183776fa5c45": {
     "model_module": "@jupyter-widgets/controls",
     "model_name": "HTMLModel",
     "model_module_version": "1.5.0",
     "state": {
      "_dom_classes": [],
      "_model_module": "@jupyter-widgets/controls",
      "_model_module_version": "1.5.0",
      "_model_name": "HTMLModel",
      "_view_count": null,
      "_view_module": "@jupyter-widgets/controls",
      "_view_module_version": "1.5.0",
      "_view_name": "HTMLView",
      "description": "",
      "description_tooltip": null,
      "layout": "IPY_MODEL_40b62e58ee974209b83d7fdadc251c89",
      "placeholder": "​",
      "style": "IPY_MODEL_146f1a6a77e44ebb8f550c70ea03fb1d",
      "value": " 25000/25000 [00:01&lt;00:00, 28393.10 examples/s]"
     }
    },
    "794169c6d1494968bc0258a4e7bd959e": {
     "model_module": "@jupyter-widgets/base",
     "model_name": "LayoutModel",
     "model_module_version": "1.2.0",
     "state": {
      "_model_module": "@jupyter-widgets/base",
      "_model_module_version": "1.2.0",
      "_model_name": "LayoutModel",
      "_view_count": null,
      "_view_module": "@jupyter-widgets/base",
      "_view_module_version": "1.2.0",
      "_view_name": "LayoutView",
      "align_content": null,
      "align_items": null,
      "align_self": null,
      "border": null,
      "bottom": null,
      "display": null,
      "flex": null,
      "flex_flow": null,
      "grid_area": null,
      "grid_auto_columns": null,
      "grid_auto_flow": null,
      "grid_auto_rows": null,
      "grid_column": null,
      "grid_gap": null,
      "grid_row": null,
      "grid_template_areas": null,
      "grid_template_columns": null,
      "grid_template_rows": null,
      "height": null,
      "justify_content": null,
      "justify_items": null,
      "left": null,
      "margin": null,
      "max_height": null,
      "max_width": null,
      "min_height": null,
      "min_width": null,
      "object_fit": null,
      "object_position": null,
      "order": null,
      "overflow": null,
      "overflow_x": null,
      "overflow_y": null,
      "padding": null,
      "right": null,
      "top": null,
      "visibility": null,
      "width": null
     }
    },
    "ff7f4a6aca2a4550ae5e50299a554678": {
     "model_module": "@jupyter-widgets/base",
     "model_name": "LayoutModel",
     "model_module_version": "1.2.0",
     "state": {
      "_model_module": "@jupyter-widgets/base",
      "_model_module_version": "1.2.0",
      "_model_name": "LayoutModel",
      "_view_count": null,
      "_view_module": "@jupyter-widgets/base",
      "_view_module_version": "1.2.0",
      "_view_name": "LayoutView",
      "align_content": null,
      "align_items": null,
      "align_self": null,
      "border": null,
      "bottom": null,
      "display": null,
      "flex": null,
      "flex_flow": null,
      "grid_area": null,
      "grid_auto_columns": null,
      "grid_auto_flow": null,
      "grid_auto_rows": null,
      "grid_column": null,
      "grid_gap": null,
      "grid_row": null,
      "grid_template_areas": null,
      "grid_template_columns": null,
      "grid_template_rows": null,
      "height": null,
      "justify_content": null,
      "justify_items": null,
      "left": null,
      "margin": null,
      "max_height": null,
      "max_width": null,
      "min_height": null,
      "min_width": null,
      "object_fit": null,
      "object_position": null,
      "order": null,
      "overflow": null,
      "overflow_x": null,
      "overflow_y": null,
      "padding": null,
      "right": null,
      "top": null,
      "visibility": null,
      "width": null
     }
    },
    "bf97c117ea0d4ffc92c7d33d3938217a": {
     "model_module": "@jupyter-widgets/controls",
     "model_name": "DescriptionStyleModel",
     "model_module_version": "1.5.0",
     "state": {
      "_model_module": "@jupyter-widgets/controls",
      "_model_module_version": "1.5.0",
      "_model_name": "DescriptionStyleModel",
      "_view_count": null,
      "_view_module": "@jupyter-widgets/base",
      "_view_module_version": "1.2.0",
      "_view_name": "StyleView",
      "description_width": ""
     }
    },
    "4b7013281fb34840a01fc986e67c65d5": {
     "model_module": "@jupyter-widgets/base",
     "model_name": "LayoutModel",
     "model_module_version": "1.2.0",
     "state": {
      "_model_module": "@jupyter-widgets/base",
      "_model_module_version": "1.2.0",
      "_model_name": "LayoutModel",
      "_view_count": null,
      "_view_module": "@jupyter-widgets/base",
      "_view_module_version": "1.2.0",
      "_view_name": "LayoutView",
      "align_content": null,
      "align_items": null,
      "align_self": null,
      "border": null,
      "bottom": null,
      "display": null,
      "flex": null,
      "flex_flow": null,
      "grid_area": null,
      "grid_auto_columns": null,
      "grid_auto_flow": null,
      "grid_auto_rows": null,
      "grid_column": null,
      "grid_gap": null,
      "grid_row": null,
      "grid_template_areas": null,
      "grid_template_columns": null,
      "grid_template_rows": null,
      "height": null,
      "justify_content": null,
      "justify_items": null,
      "left": null,
      "margin": null,
      "max_height": null,
      "max_width": null,
      "min_height": null,
      "min_width": null,
      "object_fit": null,
      "object_position": null,
      "order": null,
      "overflow": null,
      "overflow_x": null,
      "overflow_y": null,
      "padding": null,
      "right": null,
      "top": null,
      "visibility": null,
      "width": null
     }
    },
    "ecc601fe017744279752a53253ba49c9": {
     "model_module": "@jupyter-widgets/controls",
     "model_name": "ProgressStyleModel",
     "model_module_version": "1.5.0",
     "state": {
      "_model_module": "@jupyter-widgets/controls",
      "_model_module_version": "1.5.0",
      "_model_name": "ProgressStyleModel",
      "_view_count": null,
      "_view_module": "@jupyter-widgets/base",
      "_view_module_version": "1.2.0",
      "_view_name": "StyleView",
      "bar_color": null,
      "description_width": ""
     }
    },
    "40b62e58ee974209b83d7fdadc251c89": {
     "model_module": "@jupyter-widgets/base",
     "model_name": "LayoutModel",
     "model_module_version": "1.2.0",
     "state": {
      "_model_module": "@jupyter-widgets/base",
      "_model_module_version": "1.2.0",
      "_model_name": "LayoutModel",
      "_view_count": null,
      "_view_module": "@jupyter-widgets/base",
      "_view_module_version": "1.2.0",
      "_view_name": "LayoutView",
      "align_content": null,
      "align_items": null,
      "align_self": null,
      "border": null,
      "bottom": null,
      "display": null,
      "flex": null,
      "flex_flow": null,
      "grid_area": null,
      "grid_auto_columns": null,
      "grid_auto_flow": null,
      "grid_auto_rows": null,
      "grid_column": null,
      "grid_gap": null,
      "grid_row": null,
      "grid_template_areas": null,
      "grid_template_columns": null,
      "grid_template_rows": null,
      "height": null,
      "justify_content": null,
      "justify_items": null,
      "left": null,
      "margin": null,
      "max_height": null,
      "max_width": null,
      "min_height": null,
      "min_width": null,
      "object_fit": null,
      "object_position": null,
      "order": null,
      "overflow": null,
      "overflow_x": null,
      "overflow_y": null,
      "padding": null,
      "right": null,
      "top": null,
      "visibility": null,
      "width": null
     }
    },
    "146f1a6a77e44ebb8f550c70ea03fb1d": {
     "model_module": "@jupyter-widgets/controls",
     "model_name": "DescriptionStyleModel",
     "model_module_version": "1.5.0",
     "state": {
      "_model_module": "@jupyter-widgets/controls",
      "_model_module_version": "1.5.0",
      "_model_name": "DescriptionStyleModel",
      "_view_count": null,
      "_view_module": "@jupyter-widgets/base",
      "_view_module_version": "1.2.0",
      "_view_name": "StyleView",
      "description_width": ""
     }
    },
    "2f9c35fcf84e42238f1f855805cda28e": {
     "model_module": "@jupyter-widgets/controls",
     "model_name": "HBoxModel",
     "model_module_version": "1.5.0",
     "state": {
      "_dom_classes": [],
      "_model_module": "@jupyter-widgets/controls",
      "_model_module_version": "1.5.0",
      "_model_name": "HBoxModel",
      "_view_count": null,
      "_view_module": "@jupyter-widgets/controls",
      "_view_module_version": "1.5.0",
      "_view_name": "HBoxView",
      "box_style": "",
      "children": [
       "IPY_MODEL_21d465c0a0a646aba45656ddf1f7e1ab",
       "IPY_MODEL_bf1b36a048254d5da03e5ca63364bdee",
       "IPY_MODEL_aa86a71abc544c119a498eecf2b57771"
      ],
      "layout": "IPY_MODEL_71f8ab5593bf4e3bb18f4ec461c9be50"
     }
    },
    "21d465c0a0a646aba45656ddf1f7e1ab": {
     "model_module": "@jupyter-widgets/controls",
     "model_name": "HTMLModel",
     "model_module_version": "1.5.0",
     "state": {
      "_dom_classes": [],
      "_model_module": "@jupyter-widgets/controls",
      "_model_module_version": "1.5.0",
      "_model_name": "HTMLModel",
      "_view_count": null,
      "_view_module": "@jupyter-widgets/controls",
      "_view_module_version": "1.5.0",
      "_view_name": "HTMLView",
      "description": "",
      "description_tooltip": null,
      "layout": "IPY_MODEL_7618c7afd64d4374bd8dd5e216186965",
      "placeholder": "​",
      "style": "IPY_MODEL_ab72dfaa8363485b930bc84418f3a9da",
      "value": "Generating test split: 100%"
     }
    },
    "bf1b36a048254d5da03e5ca63364bdee": {
     "model_module": "@jupyter-widgets/controls",
     "model_name": "FloatProgressModel",
     "model_module_version": "1.5.0",
     "state": {
      "_dom_classes": [],
      "_model_module": "@jupyter-widgets/controls",
      "_model_module_version": "1.5.0",
      "_model_name": "FloatProgressModel",
      "_view_count": null,
      "_view_module": "@jupyter-widgets/controls",
      "_view_module_version": "1.5.0",
      "_view_name": "ProgressView",
      "bar_style": "success",
      "description": "",
      "description_tooltip": null,
      "layout": "IPY_MODEL_7598c9b27f37486e95376a826ad8d684",
      "max": 25000,
      "min": 0,
      "orientation": "horizontal",
      "style": "IPY_MODEL_4fe6c9c08fc9467aadbe7a3ca4fd29a9",
      "value": 25000
     }
    },
    "aa86a71abc544c119a498eecf2b57771": {
     "model_module": "@jupyter-widgets/controls",
     "model_name": "HTMLModel",
     "model_module_version": "1.5.0",
     "state": {
      "_dom_classes": [],
      "_model_module": "@jupyter-widgets/controls",
      "_model_module_version": "1.5.0",
      "_model_name": "HTMLModel",
      "_view_count": null,
      "_view_module": "@jupyter-widgets/controls",
      "_view_module_version": "1.5.0",
      "_view_name": "HTMLView",
      "description": "",
      "description_tooltip": null,
      "layout": "IPY_MODEL_4d9faf1518fe45f0b01ac9fc12ef3078",
      "placeholder": "​",
      "style": "IPY_MODEL_d4e3c64afa85405e852fe5def0610b71",
      "value": " 25000/25000 [00:00&lt;00:00, 28827.86 examples/s]"
     }
    },
    "71f8ab5593bf4e3bb18f4ec461c9be50": {
     "model_module": "@jupyter-widgets/base",
     "model_name": "LayoutModel",
     "model_module_version": "1.2.0",
     "state": {
      "_model_module": "@jupyter-widgets/base",
      "_model_module_version": "1.2.0",
      "_model_name": "LayoutModel",
      "_view_count": null,
      "_view_module": "@jupyter-widgets/base",
      "_view_module_version": "1.2.0",
      "_view_name": "LayoutView",
      "align_content": null,
      "align_items": null,
      "align_self": null,
      "border": null,
      "bottom": null,
      "display": null,
      "flex": null,
      "flex_flow": null,
      "grid_area": null,
      "grid_auto_columns": null,
      "grid_auto_flow": null,
      "grid_auto_rows": null,
      "grid_column": null,
      "grid_gap": null,
      "grid_row": null,
      "grid_template_areas": null,
      "grid_template_columns": null,
      "grid_template_rows": null,
      "height": null,
      "justify_content": null,
      "justify_items": null,
      "left": null,
      "margin": null,
      "max_height": null,
      "max_width": null,
      "min_height": null,
      "min_width": null,
      "object_fit": null,
      "object_position": null,
      "order": null,
      "overflow": null,
      "overflow_x": null,
      "overflow_y": null,
      "padding": null,
      "right": null,
      "top": null,
      "visibility": null,
      "width": null
     }
    },
    "7618c7afd64d4374bd8dd5e216186965": {
     "model_module": "@jupyter-widgets/base",
     "model_name": "LayoutModel",
     "model_module_version": "1.2.0",
     "state": {
      "_model_module": "@jupyter-widgets/base",
      "_model_module_version": "1.2.0",
      "_model_name": "LayoutModel",
      "_view_count": null,
      "_view_module": "@jupyter-widgets/base",
      "_view_module_version": "1.2.0",
      "_view_name": "LayoutView",
      "align_content": null,
      "align_items": null,
      "align_self": null,
      "border": null,
      "bottom": null,
      "display": null,
      "flex": null,
      "flex_flow": null,
      "grid_area": null,
      "grid_auto_columns": null,
      "grid_auto_flow": null,
      "grid_auto_rows": null,
      "grid_column": null,
      "grid_gap": null,
      "grid_row": null,
      "grid_template_areas": null,
      "grid_template_columns": null,
      "grid_template_rows": null,
      "height": null,
      "justify_content": null,
      "justify_items": null,
      "left": null,
      "margin": null,
      "max_height": null,
      "max_width": null,
      "min_height": null,
      "min_width": null,
      "object_fit": null,
      "object_position": null,
      "order": null,
      "overflow": null,
      "overflow_x": null,
      "overflow_y": null,
      "padding": null,
      "right": null,
      "top": null,
      "visibility": null,
      "width": null
     }
    },
    "ab72dfaa8363485b930bc84418f3a9da": {
     "model_module": "@jupyter-widgets/controls",
     "model_name": "DescriptionStyleModel",
     "model_module_version": "1.5.0",
     "state": {
      "_model_module": "@jupyter-widgets/controls",
      "_model_module_version": "1.5.0",
      "_model_name": "DescriptionStyleModel",
      "_view_count": null,
      "_view_module": "@jupyter-widgets/base",
      "_view_module_version": "1.2.0",
      "_view_name": "StyleView",
      "description_width": ""
     }
    },
    "7598c9b27f37486e95376a826ad8d684": {
     "model_module": "@jupyter-widgets/base",
     "model_name": "LayoutModel",
     "model_module_version": "1.2.0",
     "state": {
      "_model_module": "@jupyter-widgets/base",
      "_model_module_version": "1.2.0",
      "_model_name": "LayoutModel",
      "_view_count": null,
      "_view_module": "@jupyter-widgets/base",
      "_view_module_version": "1.2.0",
      "_view_name": "LayoutView",
      "align_content": null,
      "align_items": null,
      "align_self": null,
      "border": null,
      "bottom": null,
      "display": null,
      "flex": null,
      "flex_flow": null,
      "grid_area": null,
      "grid_auto_columns": null,
      "grid_auto_flow": null,
      "grid_auto_rows": null,
      "grid_column": null,
      "grid_gap": null,
      "grid_row": null,
      "grid_template_areas": null,
      "grid_template_columns": null,
      "grid_template_rows": null,
      "height": null,
      "justify_content": null,
      "justify_items": null,
      "left": null,
      "margin": null,
      "max_height": null,
      "max_width": null,
      "min_height": null,
      "min_width": null,
      "object_fit": null,
      "object_position": null,
      "order": null,
      "overflow": null,
      "overflow_x": null,
      "overflow_y": null,
      "padding": null,
      "right": null,
      "top": null,
      "visibility": null,
      "width": null
     }
    },
    "4fe6c9c08fc9467aadbe7a3ca4fd29a9": {
     "model_module": "@jupyter-widgets/controls",
     "model_name": "ProgressStyleModel",
     "model_module_version": "1.5.0",
     "state": {
      "_model_module": "@jupyter-widgets/controls",
      "_model_module_version": "1.5.0",
      "_model_name": "ProgressStyleModel",
      "_view_count": null,
      "_view_module": "@jupyter-widgets/base",
      "_view_module_version": "1.2.0",
      "_view_name": "StyleView",
      "bar_color": null,
      "description_width": ""
     }
    },
    "4d9faf1518fe45f0b01ac9fc12ef3078": {
     "model_module": "@jupyter-widgets/base",
     "model_name": "LayoutModel",
     "model_module_version": "1.2.0",
     "state": {
      "_model_module": "@jupyter-widgets/base",
      "_model_module_version": "1.2.0",
      "_model_name": "LayoutModel",
      "_view_count": null,
      "_view_module": "@jupyter-widgets/base",
      "_view_module_version": "1.2.0",
      "_view_name": "LayoutView",
      "align_content": null,
      "align_items": null,
      "align_self": null,
      "border": null,
      "bottom": null,
      "display": null,
      "flex": null,
      "flex_flow": null,
      "grid_area": null,
      "grid_auto_columns": null,
      "grid_auto_flow": null,
      "grid_auto_rows": null,
      "grid_column": null,
      "grid_gap": null,
      "grid_row": null,
      "grid_template_areas": null,
      "grid_template_columns": null,
      "grid_template_rows": null,
      "height": null,
      "justify_content": null,
      "justify_items": null,
      "left": null,
      "margin": null,
      "max_height": null,
      "max_width": null,
      "min_height": null,
      "min_width": null,
      "object_fit": null,
      "object_position": null,
      "order": null,
      "overflow": null,
      "overflow_x": null,
      "overflow_y": null,
      "padding": null,
      "right": null,
      "top": null,
      "visibility": null,
      "width": null
     }
    },
    "d4e3c64afa85405e852fe5def0610b71": {
     "model_module": "@jupyter-widgets/controls",
     "model_name": "DescriptionStyleModel",
     "model_module_version": "1.5.0",
     "state": {
      "_model_module": "@jupyter-widgets/controls",
      "_model_module_version": "1.5.0",
      "_model_name": "DescriptionStyleModel",
      "_view_count": null,
      "_view_module": "@jupyter-widgets/base",
      "_view_module_version": "1.2.0",
      "_view_name": "StyleView",
      "description_width": ""
     }
    },
    "91326bb60bcf4873a0c3cad94ce6f8df": {
     "model_module": "@jupyter-widgets/controls",
     "model_name": "HBoxModel",
     "model_module_version": "1.5.0",
     "state": {
      "_dom_classes": [],
      "_model_module": "@jupyter-widgets/controls",
      "_model_module_version": "1.5.0",
      "_model_name": "HBoxModel",
      "_view_count": null,
      "_view_module": "@jupyter-widgets/controls",
      "_view_module_version": "1.5.0",
      "_view_name": "HBoxView",
      "box_style": "",
      "children": [
       "IPY_MODEL_592b7c087b3a4a7cb3496038cb11d7e5",
       "IPY_MODEL_a6f1e9bbc1c34198b5520cf0291ab65b",
       "IPY_MODEL_d866dacb29f44c5bb96cbd4df1657ea4"
      ],
      "layout": "IPY_MODEL_90bd440389ce499c92082f4fed662c98"
     }
    },
    "592b7c087b3a4a7cb3496038cb11d7e5": {
     "model_module": "@jupyter-widgets/controls",
     "model_name": "HTMLModel",
     "model_module_version": "1.5.0",
     "state": {
      "_dom_classes": [],
      "_model_module": "@jupyter-widgets/controls",
      "_model_module_version": "1.5.0",
      "_model_name": "HTMLModel",
      "_view_count": null,
      "_view_module": "@jupyter-widgets/controls",
      "_view_module_version": "1.5.0",
      "_view_name": "HTMLView",
      "description": "",
      "description_tooltip": null,
      "layout": "IPY_MODEL_c09d35e1935b4792a06470acd04be334",
      "placeholder": "​",
      "style": "IPY_MODEL_09acd15f1cd5445c9fae90c7b11344cc",
      "value": "Generating unsupervised split: 100%"
     }
    },
    "a6f1e9bbc1c34198b5520cf0291ab65b": {
     "model_module": "@jupyter-widgets/controls",
     "model_name": "FloatProgressModel",
     "model_module_version": "1.5.0",
     "state": {
      "_dom_classes": [],
      "_model_module": "@jupyter-widgets/controls",
      "_model_module_version": "1.5.0",
      "_model_name": "FloatProgressModel",
      "_view_count": null,
      "_view_module": "@jupyter-widgets/controls",
      "_view_module_version": "1.5.0",
      "_view_name": "ProgressView",
      "bar_style": "success",
      "description": "",
      "description_tooltip": null,
      "layout": "IPY_MODEL_34ea837ca0db4dffafa6fe24b1cb3ece",
      "max": 50000,
      "min": 0,
      "orientation": "horizontal",
      "style": "IPY_MODEL_07f0bdb42c8d4a0890b6df7f47e124e6",
      "value": 50000
     }
    },
    "d866dacb29f44c5bb96cbd4df1657ea4": {
     "model_module": "@jupyter-widgets/controls",
     "model_name": "HTMLModel",
     "model_module_version": "1.5.0",
     "state": {
      "_dom_classes": [],
      "_model_module": "@jupyter-widgets/controls",
      "_model_module_version": "1.5.0",
      "_model_name": "HTMLModel",
      "_view_count": null,
      "_view_module": "@jupyter-widgets/controls",
      "_view_module_version": "1.5.0",
      "_view_name": "HTMLView",
      "description": "",
      "description_tooltip": null,
      "layout": "IPY_MODEL_ecf6a52c8c894f428b5f29b7d82535a4",
      "placeholder": "​",
      "style": "IPY_MODEL_5a6d43d21d804a448df9383f24a46473",
      "value": " 50000/50000 [00:02&lt;00:00, 29854.40 examples/s]"
     }
    },
    "90bd440389ce499c92082f4fed662c98": {
     "model_module": "@jupyter-widgets/base",
     "model_name": "LayoutModel",
     "model_module_version": "1.2.0",
     "state": {
      "_model_module": "@jupyter-widgets/base",
      "_model_module_version": "1.2.0",
      "_model_name": "LayoutModel",
      "_view_count": null,
      "_view_module": "@jupyter-widgets/base",
      "_view_module_version": "1.2.0",
      "_view_name": "LayoutView",
      "align_content": null,
      "align_items": null,
      "align_self": null,
      "border": null,
      "bottom": null,
      "display": null,
      "flex": null,
      "flex_flow": null,
      "grid_area": null,
      "grid_auto_columns": null,
      "grid_auto_flow": null,
      "grid_auto_rows": null,
      "grid_column": null,
      "grid_gap": null,
      "grid_row": null,
      "grid_template_areas": null,
      "grid_template_columns": null,
      "grid_template_rows": null,
      "height": null,
      "justify_content": null,
      "justify_items": null,
      "left": null,
      "margin": null,
      "max_height": null,
      "max_width": null,
      "min_height": null,
      "min_width": null,
      "object_fit": null,
      "object_position": null,
      "order": null,
      "overflow": null,
      "overflow_x": null,
      "overflow_y": null,
      "padding": null,
      "right": null,
      "top": null,
      "visibility": null,
      "width": null
     }
    },
    "c09d35e1935b4792a06470acd04be334": {
     "model_module": "@jupyter-widgets/base",
     "model_name": "LayoutModel",
     "model_module_version": "1.2.0",
     "state": {
      "_model_module": "@jupyter-widgets/base",
      "_model_module_version": "1.2.0",
      "_model_name": "LayoutModel",
      "_view_count": null,
      "_view_module": "@jupyter-widgets/base",
      "_view_module_version": "1.2.0",
      "_view_name": "LayoutView",
      "align_content": null,
      "align_items": null,
      "align_self": null,
      "border": null,
      "bottom": null,
      "display": null,
      "flex": null,
      "flex_flow": null,
      "grid_area": null,
      "grid_auto_columns": null,
      "grid_auto_flow": null,
      "grid_auto_rows": null,
      "grid_column": null,
      "grid_gap": null,
      "grid_row": null,
      "grid_template_areas": null,
      "grid_template_columns": null,
      "grid_template_rows": null,
      "height": null,
      "justify_content": null,
      "justify_items": null,
      "left": null,
      "margin": null,
      "max_height": null,
      "max_width": null,
      "min_height": null,
      "min_width": null,
      "object_fit": null,
      "object_position": null,
      "order": null,
      "overflow": null,
      "overflow_x": null,
      "overflow_y": null,
      "padding": null,
      "right": null,
      "top": null,
      "visibility": null,
      "width": null
     }
    },
    "09acd15f1cd5445c9fae90c7b11344cc": {
     "model_module": "@jupyter-widgets/controls",
     "model_name": "DescriptionStyleModel",
     "model_module_version": "1.5.0",
     "state": {
      "_model_module": "@jupyter-widgets/controls",
      "_model_module_version": "1.5.0",
      "_model_name": "DescriptionStyleModel",
      "_view_count": null,
      "_view_module": "@jupyter-widgets/base",
      "_view_module_version": "1.2.0",
      "_view_name": "StyleView",
      "description_width": ""
     }
    },
    "34ea837ca0db4dffafa6fe24b1cb3ece": {
     "model_module": "@jupyter-widgets/base",
     "model_name": "LayoutModel",
     "model_module_version": "1.2.0",
     "state": {
      "_model_module": "@jupyter-widgets/base",
      "_model_module_version": "1.2.0",
      "_model_name": "LayoutModel",
      "_view_count": null,
      "_view_module": "@jupyter-widgets/base",
      "_view_module_version": "1.2.0",
      "_view_name": "LayoutView",
      "align_content": null,
      "align_items": null,
      "align_self": null,
      "border": null,
      "bottom": null,
      "display": null,
      "flex": null,
      "flex_flow": null,
      "grid_area": null,
      "grid_auto_columns": null,
      "grid_auto_flow": null,
      "grid_auto_rows": null,
      "grid_column": null,
      "grid_gap": null,
      "grid_row": null,
      "grid_template_areas": null,
      "grid_template_columns": null,
      "grid_template_rows": null,
      "height": null,
      "justify_content": null,
      "justify_items": null,
      "left": null,
      "margin": null,
      "max_height": null,
      "max_width": null,
      "min_height": null,
      "min_width": null,
      "object_fit": null,
      "object_position": null,
      "order": null,
      "overflow": null,
      "overflow_x": null,
      "overflow_y": null,
      "padding": null,
      "right": null,
      "top": null,
      "visibility": null,
      "width": null
     }
    },
    "07f0bdb42c8d4a0890b6df7f47e124e6": {
     "model_module": "@jupyter-widgets/controls",
     "model_name": "ProgressStyleModel",
     "model_module_version": "1.5.0",
     "state": {
      "_model_module": "@jupyter-widgets/controls",
      "_model_module_version": "1.5.0",
      "_model_name": "ProgressStyleModel",
      "_view_count": null,
      "_view_module": "@jupyter-widgets/base",
      "_view_module_version": "1.2.0",
      "_view_name": "StyleView",
      "bar_color": null,
      "description_width": ""
     }
    },
    "ecf6a52c8c894f428b5f29b7d82535a4": {
     "model_module": "@jupyter-widgets/base",
     "model_name": "LayoutModel",
     "model_module_version": "1.2.0",
     "state": {
      "_model_module": "@jupyter-widgets/base",
      "_model_module_version": "1.2.0",
      "_model_name": "LayoutModel",
      "_view_count": null,
      "_view_module": "@jupyter-widgets/base",
      "_view_module_version": "1.2.0",
      "_view_name": "LayoutView",
      "align_content": null,
      "align_items": null,
      "align_self": null,
      "border": null,
      "bottom": null,
      "display": null,
      "flex": null,
      "flex_flow": null,
      "grid_area": null,
      "grid_auto_columns": null,
      "grid_auto_flow": null,
      "grid_auto_rows": null,
      "grid_column": null,
      "grid_gap": null,
      "grid_row": null,
      "grid_template_areas": null,
      "grid_template_columns": null,
      "grid_template_rows": null,
      "height": null,
      "justify_content": null,
      "justify_items": null,
      "left": null,
      "margin": null,
      "max_height": null,
      "max_width": null,
      "min_height": null,
      "min_width": null,
      "object_fit": null,
      "object_position": null,
      "order": null,
      "overflow": null,
      "overflow_x": null,
      "overflow_y": null,
      "padding": null,
      "right": null,
      "top": null,
      "visibility": null,
      "width": null
     }
    },
    "5a6d43d21d804a448df9383f24a46473": {
     "model_module": "@jupyter-widgets/controls",
     "model_name": "DescriptionStyleModel",
     "model_module_version": "1.5.0",
     "state": {
      "_model_module": "@jupyter-widgets/controls",
      "_model_module_version": "1.5.0",
      "_model_name": "DescriptionStyleModel",
      "_view_count": null,
      "_view_module": "@jupyter-widgets/base",
      "_view_module_version": "1.2.0",
      "_view_name": "StyleView",
      "description_width": ""
     }
    },
    "12a9c6c50d7740cda56429f494991919": {
     "model_module": "@jupyter-widgets/controls",
     "model_name": "HBoxModel",
     "model_module_version": "1.5.0",
     "state": {
      "_dom_classes": [],
      "_model_module": "@jupyter-widgets/controls",
      "_model_module_version": "1.5.0",
      "_model_name": "HBoxModel",
      "_view_count": null,
      "_view_module": "@jupyter-widgets/controls",
      "_view_module_version": "1.5.0",
      "_view_name": "HBoxView",
      "box_style": "",
      "children": [
       "IPY_MODEL_5e71612e44a241c88a030f50dcd82108",
       "IPY_MODEL_7e3ebc38ed7a46d28abd2586fafcedec",
       "IPY_MODEL_74a73b2098964fc9a8ce0debb4ebe804"
      ],
      "layout": "IPY_MODEL_218aa43030a6424087d5186c4e3cbb01"
     }
    },
    "5e71612e44a241c88a030f50dcd82108": {
     "model_module": "@jupyter-widgets/controls",
     "model_name": "HTMLModel",
     "model_module_version": "1.5.0",
     "state": {
      "_dom_classes": [],
      "_model_module": "@jupyter-widgets/controls",
      "_model_module_version": "1.5.0",
      "_model_name": "HTMLModel",
      "_view_count": null,
      "_view_module": "@jupyter-widgets/controls",
      "_view_module_version": "1.5.0",
      "_view_name": "HTMLView",
      "description": "",
      "description_tooltip": null,
      "layout": "IPY_MODEL_68388f4984034a7186c8f3973f83bafe",
      "placeholder": "​",
      "style": "IPY_MODEL_b5d8e772a18c4632b9b88eff7f3525b8",
      "value": "Filter: 100%"
     }
    },
    "7e3ebc38ed7a46d28abd2586fafcedec": {
     "model_module": "@jupyter-widgets/controls",
     "model_name": "FloatProgressModel",
     "model_module_version": "1.5.0",
     "state": {
      "_dom_classes": [],
      "_model_module": "@jupyter-widgets/controls",
      "_model_module_version": "1.5.0",
      "_model_name": "FloatProgressModel",
      "_view_count": null,
      "_view_module": "@jupyter-widgets/controls",
      "_view_module_version": "1.5.0",
      "_view_name": "ProgressView",
      "bar_style": "success",
      "description": "",
      "description_tooltip": null,
      "layout": "IPY_MODEL_99896d9a3d2f4ac1a61900af509ff3e3",
      "max": 25000,
      "min": 0,
      "orientation": "horizontal",
      "style": "IPY_MODEL_5fee7b6055a64a3a9399f772d6e97eef",
      "value": 25000
     }
    },
    "74a73b2098964fc9a8ce0debb4ebe804": {
     "model_module": "@jupyter-widgets/controls",
     "model_name": "HTMLModel",
     "model_module_version": "1.5.0",
     "state": {
      "_dom_classes": [],
      "_model_module": "@jupyter-widgets/controls",
      "_model_module_version": "1.5.0",
      "_model_name": "HTMLModel",
      "_view_count": null,
      "_view_module": "@jupyter-widgets/controls",
      "_view_module_version": "1.5.0",
      "_view_name": "HTMLView",
      "description": "",
      "description_tooltip": null,
      "layout": "IPY_MODEL_0c24f92d770c4bf2afc61cf7a14b5d9e",
      "placeholder": "​",
      "style": "IPY_MODEL_8991264d70c349918efcfef709678fbe",
      "value": " 25000/25000 [00:01&lt;00:00, 29002.81 examples/s]"
     }
    },
    "218aa43030a6424087d5186c4e3cbb01": {
     "model_module": "@jupyter-widgets/base",
     "model_name": "LayoutModel",
     "model_module_version": "1.2.0",
     "state": {
      "_model_module": "@jupyter-widgets/base",
      "_model_module_version": "1.2.0",
      "_model_name": "LayoutModel",
      "_view_count": null,
      "_view_module": "@jupyter-widgets/base",
      "_view_module_version": "1.2.0",
      "_view_name": "LayoutView",
      "align_content": null,
      "align_items": null,
      "align_self": null,
      "border": null,
      "bottom": null,
      "display": null,
      "flex": null,
      "flex_flow": null,
      "grid_area": null,
      "grid_auto_columns": null,
      "grid_auto_flow": null,
      "grid_auto_rows": null,
      "grid_column": null,
      "grid_gap": null,
      "grid_row": null,
      "grid_template_areas": null,
      "grid_template_columns": null,
      "grid_template_rows": null,
      "height": null,
      "justify_content": null,
      "justify_items": null,
      "left": null,
      "margin": null,
      "max_height": null,
      "max_width": null,
      "min_height": null,
      "min_width": null,
      "object_fit": null,
      "object_position": null,
      "order": null,
      "overflow": null,
      "overflow_x": null,
      "overflow_y": null,
      "padding": null,
      "right": null,
      "top": null,
      "visibility": null,
      "width": null
     }
    },
    "68388f4984034a7186c8f3973f83bafe": {
     "model_module": "@jupyter-widgets/base",
     "model_name": "LayoutModel",
     "model_module_version": "1.2.0",
     "state": {
      "_model_module": "@jupyter-widgets/base",
      "_model_module_version": "1.2.0",
      "_model_name": "LayoutModel",
      "_view_count": null,
      "_view_module": "@jupyter-widgets/base",
      "_view_module_version": "1.2.0",
      "_view_name": "LayoutView",
      "align_content": null,
      "align_items": null,
      "align_self": null,
      "border": null,
      "bottom": null,
      "display": null,
      "flex": null,
      "flex_flow": null,
      "grid_area": null,
      "grid_auto_columns": null,
      "grid_auto_flow": null,
      "grid_auto_rows": null,
      "grid_column": null,
      "grid_gap": null,
      "grid_row": null,
      "grid_template_areas": null,
      "grid_template_columns": null,
      "grid_template_rows": null,
      "height": null,
      "justify_content": null,
      "justify_items": null,
      "left": null,
      "margin": null,
      "max_height": null,
      "max_width": null,
      "min_height": null,
      "min_width": null,
      "object_fit": null,
      "object_position": null,
      "order": null,
      "overflow": null,
      "overflow_x": null,
      "overflow_y": null,
      "padding": null,
      "right": null,
      "top": null,
      "visibility": null,
      "width": null
     }
    },
    "b5d8e772a18c4632b9b88eff7f3525b8": {
     "model_module": "@jupyter-widgets/controls",
     "model_name": "DescriptionStyleModel",
     "model_module_version": "1.5.0",
     "state": {
      "_model_module": "@jupyter-widgets/controls",
      "_model_module_version": "1.5.0",
      "_model_name": "DescriptionStyleModel",
      "_view_count": null,
      "_view_module": "@jupyter-widgets/base",
      "_view_module_version": "1.2.0",
      "_view_name": "StyleView",
      "description_width": ""
     }
    },
    "99896d9a3d2f4ac1a61900af509ff3e3": {
     "model_module": "@jupyter-widgets/base",
     "model_name": "LayoutModel",
     "model_module_version": "1.2.0",
     "state": {
      "_model_module": "@jupyter-widgets/base",
      "_model_module_version": "1.2.0",
      "_model_name": "LayoutModel",
      "_view_count": null,
      "_view_module": "@jupyter-widgets/base",
      "_view_module_version": "1.2.0",
      "_view_name": "LayoutView",
      "align_content": null,
      "align_items": null,
      "align_self": null,
      "border": null,
      "bottom": null,
      "display": null,
      "flex": null,
      "flex_flow": null,
      "grid_area": null,
      "grid_auto_columns": null,
      "grid_auto_flow": null,
      "grid_auto_rows": null,
      "grid_column": null,
      "grid_gap": null,
      "grid_row": null,
      "grid_template_areas": null,
      "grid_template_columns": null,
      "grid_template_rows": null,
      "height": null,
      "justify_content": null,
      "justify_items": null,
      "left": null,
      "margin": null,
      "max_height": null,
      "max_width": null,
      "min_height": null,
      "min_width": null,
      "object_fit": null,
      "object_position": null,
      "order": null,
      "overflow": null,
      "overflow_x": null,
      "overflow_y": null,
      "padding": null,
      "right": null,
      "top": null,
      "visibility": null,
      "width": null
     }
    },
    "5fee7b6055a64a3a9399f772d6e97eef": {
     "model_module": "@jupyter-widgets/controls",
     "model_name": "ProgressStyleModel",
     "model_module_version": "1.5.0",
     "state": {
      "_model_module": "@jupyter-widgets/controls",
      "_model_module_version": "1.5.0",
      "_model_name": "ProgressStyleModel",
      "_view_count": null,
      "_view_module": "@jupyter-widgets/base",
      "_view_module_version": "1.2.0",
      "_view_name": "StyleView",
      "bar_color": null,
      "description_width": ""
     }
    },
    "0c24f92d770c4bf2afc61cf7a14b5d9e": {
     "model_module": "@jupyter-widgets/base",
     "model_name": "LayoutModel",
     "model_module_version": "1.2.0",
     "state": {
      "_model_module": "@jupyter-widgets/base",
      "_model_module_version": "1.2.0",
      "_model_name": "LayoutModel",
      "_view_count": null,
      "_view_module": "@jupyter-widgets/base",
      "_view_module_version": "1.2.0",
      "_view_name": "LayoutView",
      "align_content": null,
      "align_items": null,
      "align_self": null,
      "border": null,
      "bottom": null,
      "display": null,
      "flex": null,
      "flex_flow": null,
      "grid_area": null,
      "grid_auto_columns": null,
      "grid_auto_flow": null,
      "grid_auto_rows": null,
      "grid_column": null,
      "grid_gap": null,
      "grid_row": null,
      "grid_template_areas": null,
      "grid_template_columns": null,
      "grid_template_rows": null,
      "height": null,
      "justify_content": null,
      "justify_items": null,
      "left": null,
      "margin": null,
      "max_height": null,
      "max_width": null,
      "min_height": null,
      "min_width": null,
      "object_fit": null,
      "object_position": null,
      "order": null,
      "overflow": null,
      "overflow_x": null,
      "overflow_y": null,
      "padding": null,
      "right": null,
      "top": null,
      "visibility": null,
      "width": null
     }
    },
    "8991264d70c349918efcfef709678fbe": {
     "model_module": "@jupyter-widgets/controls",
     "model_name": "DescriptionStyleModel",
     "model_module_version": "1.5.0",
     "state": {
      "_model_module": "@jupyter-widgets/controls",
      "_model_module_version": "1.5.0",
      "_model_name": "DescriptionStyleModel",
      "_view_count": null,
      "_view_module": "@jupyter-widgets/base",
      "_view_module_version": "1.2.0",
      "_view_name": "StyleView",
      "description_width": ""
     }
    }
   }
  }
 },
 "cells": [
  {
   "cell_type": "markdown",
   "metadata": {
    "id": "eiiDM1V8p_iX",
    "pycharm": {
     "name": "#%% md\n"
    }
   },
   "source": [
    "# Workbook 03: Word embeddings for text classification\n",
    "\n",
    "У цій роботі ми використаємо word embeddings для тренування моделі класифікації текстів.\n",
    "\n",
    "Маємо побачити, як word embeddings особливо сильно допомогають, коли тренувальних даних небагато (а їх майже завжди небагато)."
   ]
  },
  {
   "cell_type": "code",
   "source": [
    "!pip install --quiet --ignore-installed http://nlp.band/static/pypy/lpnlp-2023.10.2-py3-none-any.whl"
   ],
   "metadata": {
    "id": "zBBM2S6_jI8r",
    "pycharm": {
     "name": "#%%\n"
    }
   },
   "execution_count": 1,
   "outputs": []
  },
  {
   "cell_type": "code",
   "metadata": {
    "id": "o3BcrrZzDGZ6",
    "colab": {
     "base_uri": "https://localhost:8080/"
    },
    "outputId": "e7fc4261-5fef-42a3-b763-96ac796e3352",
    "pycharm": {
     "name": "#%%\n"
    }
   },
   "source": [
    "import lpnlp\n",
    "lab = lpnlp.start(\n",
    "    email=\"sofiia.tkach.kn.2021@lpnu.ua\",  # <---------------------- Заповніть це поле\n",
    "    lab=\"using_word_embeddings\",\n",
    "    )\n"
   ],
   "execution_count": 2,
   "outputs": [
    {
     "output_type": "stream",
     "name": "stdout",
     "text": [
      "Удачі!\n"
     ]
    }
   ]
  },
  {
   "cell_type": "markdown",
   "metadata": {
    "id": "tdb5yxDGp_ig",
    "pycharm": {
     "name": "#%% md\n"
    }
   },
   "source": [
    "# GloVe"
   ]
  },
  {
   "cell_type": "code",
   "metadata": {
    "collapsed": true,
    "id": "ZQ5JifvDp_ig",
    "colab": {
     "base_uri": "https://localhost:8080/"
    },
    "outputId": "9a89fc7b-df80-4bb3-e0bf-51f02dbc30fa",
    "pycharm": {
     "name": "#%%\n"
    }
   },
   "source": [
    "!pip install gensim"
   ],
   "execution_count": 3,
   "outputs": [
    {
     "output_type": "stream",
     "name": "stdout",
     "text": [
      "Requirement already satisfied: gensim in /usr/local/lib/python3.10/dist-packages (4.3.3)\n",
      "Requirement already satisfied: numpy<2.0,>=1.18.5 in /usr/local/lib/python3.10/dist-packages (from gensim) (1.26.4)\n",
      "Requirement already satisfied: scipy<1.14.0,>=1.7.0 in /usr/local/lib/python3.10/dist-packages (from gensim) (1.13.1)\n",
      "Requirement already satisfied: smart-open>=1.8.1 in /usr/local/lib/python3.10/dist-packages (from gensim) (7.0.4)\n",
      "Requirement already satisfied: wrapt in /usr/local/lib/python3.10/dist-packages (from smart-open>=1.8.1->gensim) (1.16.0)\n"
     ]
    }
   ]
  },
  {
   "cell_type": "markdown",
   "metadata": {
    "id": "KESE75BDp_ih",
    "pycharm": {
     "name": "#%% md\n"
    }
   },
   "source": [
    "Повний GloVe містить 4,000,000 векторів і займає багато пам'яті. Щоб уникнути проблем з пам'ятю, залишимо лише 50,000 векторів найчастотніших слів. Це трохи знизить якість моделей, але це зараз не головне."
   ]
  },
  {
   "cell_type": "code",
   "metadata": {
    "id": "rSPkhqoep_ih",
    "pycharm": {
     "name": "#%%\n"
    }
   },
   "source": [
    "from gensim.models import KeyedVectors\n",
    "glove = KeyedVectors.load(\"http://nlp.band/static/files/glove-50k.bin\")"
   ],
   "execution_count": 4,
   "outputs": []
  },
  {
   "cell_type": "markdown",
   "metadata": {
    "id": "fC899YNmp_ir",
    "pycharm": {
     "name": "#%% md\n"
    }
   },
   "source": [
    "# Bag-of-embeddings\n",
    "\n",
    "Вектори слів, натреновані на великому корпусі текстів, використовують для представлення слів замість розріджених one-hot, які ми бачили в першій лабораторній. Word embeddings чудово працюють з нейронним мережами різноманітних архітектур. Але зараз ми розглянемо напростіше використання: логістичну регресію (так, знову) та мішок векторів (bag-of-embeddings).\n",
    "\n",
    "В bag-of-embeddings ми усереднюємо вектори всіх слів, які входять в речення. Результат — вектор такої ж розмірності, як і вектор слова. Цей вектор кодує зміст усього речення. Звичайно, таке представлення не враховує порядок слів, рівноцінно ставиться до важливих та допоміжних слів, а тому \"кодує\" воно зміст речення вельми приблизно. Проте цього достатньо для багатьох простих задач."
   ]
  },
  {
   "cell_type": "markdown",
   "metadata": {
    "id": "bnj-EyYPp_ir",
    "pycharm": {
     "name": "#%% md\n"
    }
   },
   "source": [
    "## Токенізація\n",
    "\n",
    "Для початку нам треба токенізувати корпус. Важливий момент: GloVe та інші word embeddings тренувалися кожен зі своїм токенізатором. Нам слід використовувати максимально схожий токенізатор. Інакше ми не зможемо знайти вектори для багатьох слів.\n",
    "\n",
    "Насамперед, GloVe тренувалися на тексті, приведеному до нижнього регістру. Також розбіжності можуть бути в кодуванні слів типу `I'll` (токенізується в два токени `I 'll` чи в один токен `I'll`?), `don't`, `I've` і подібних.\n",
    "\n",
    "Перевіримо, який варіант токенізації використовує GloVe:"
   ]
  },
  {
   "cell_type": "code",
   "metadata": {
    "id": "mwSeYexXp_is",
    "colab": {
     "base_uri": "https://localhost:8080/"
    },
    "outputId": "7f73a5e8-fa6c-4509-fb9c-db2afe93c588",
    "pycharm": {
     "name": "#%%\n"
    }
   },
   "source": [
    "\"don't\" in glove"
   ],
   "execution_count": 5,
   "outputs": [
    {
     "output_type": "execute_result",
     "data": {
      "text/plain": [
       "False"
      ]
     },
     "metadata": {},
     "execution_count": 5
    }
   ]
  },
  {
   "cell_type": "code",
   "metadata": {
    "id": "R7PLcDlop_is",
    "colab": {
     "base_uri": "https://localhost:8080/"
    },
    "outputId": "a5f035d2-c837-4d00-f9ac-a9803cfac2e7",
    "pycharm": {
     "name": "#%%\n"
    }
   },
   "source": [
    "\"n't\" in glove"
   ],
   "execution_count": 6,
   "outputs": [
    {
     "output_type": "execute_result",
     "data": {
      "text/plain": [
       "True"
      ]
     },
     "metadata": {},
     "execution_count": 6
    }
   ]
  },
  {
   "cell_type": "code",
   "metadata": {
    "id": "InXjt_Oap_is",
    "colab": {
     "base_uri": "https://localhost:8080/"
    },
    "outputId": "e7f8368f-0ce4-4a3d-b0e6-8de6c5deff30",
    "pycharm": {
     "name": "#%%\n"
    }
   },
   "source": [
    "\"I'll\" in glove"
   ],
   "execution_count": 7,
   "outputs": [
    {
     "output_type": "execute_result",
     "data": {
      "text/plain": [
       "False"
      ]
     },
     "metadata": {},
     "execution_count": 7
    }
   ]
  },
  {
   "cell_type": "code",
   "metadata": {
    "id": "gIGf6CMdp_it",
    "colab": {
     "base_uri": "https://localhost:8080/"
    },
    "outputId": "b95702b3-f388-4678-cefd-ac3e92a6dc2a",
    "pycharm": {
     "name": "#%%\n"
    }
   },
   "source": [
    "\"'ll\" in glove"
   ],
   "execution_count": 8,
   "outputs": [
    {
     "output_type": "execute_result",
     "data": {
      "text/plain": [
       "True"
      ]
     },
     "metadata": {},
     "execution_count": 8
    }
   ]
  },
  {
   "cell_type": "markdown",
   "metadata": {
    "id": "Z7Zyzasep_it",
    "pycharm": {
     "name": "#%% md\n"
    }
   },
   "source": [
    "Отже, маємо розбивати `don't` на два токени: `do` + `n't`"
   ]
  },
  {
   "cell_type": "code",
   "metadata": {
    "id": "F8pkOJMrp_it",
    "colab": {
     "base_uri": "https://localhost:8080/"
    },
    "outputId": "fb84fd6f-1463-425d-fed0-ebb4cf4bd373",
    "pycharm": {
     "name": "#%%\n"
    }
   },
   "source": [
    "import spacy\n",
    "from typing import List\n",
    "\n",
    "\n",
    "spacy_nlp = spacy.blank(\"en\")\n",
    "\n",
    "\n",
    "def tokenize(text: str) -> List[str]:\n",
    "  \"\"\"Tokenize string with SpaCy. \"\"\"\n",
    "\n",
    "  tokens = spacy_nlp.tokenizer(text)\n",
    "  return [str(token).lower() for token in tokens]\n",
    "\n",
    "tokenize(\"I don't know\")"
   ],
   "execution_count": 9,
   "outputs": [
    {
     "output_type": "execute_result",
     "data": {
      "text/plain": [
       "['i', 'do', \"n't\", 'know']"
      ]
     },
     "metadata": {},
     "execution_count": 9
    }
   ]
  },
  {
   "cell_type": "markdown",
   "metadata": {
    "id": "TDcdMxXLp_iu",
    "pycharm": {
     "name": "#%% md\n"
    }
   },
   "source": [
    "## Векторизація одного документа\n",
    "\n",
    "Тепер можемо порахувати вектор для кожного документу в корпус. Цей вектор буде дорівнювати середньому від векторів окремих слів документа."
   ]
  },
  {
   "cell_type": "code",
   "source": [
    "tokens=tokenize(\"Hello world!\")\n",
    "for t in tokens:\n",
    "      if t in glove:\n",
    "        print(glove[t])\n",
    "        # vect.append(embeddings[t])"
   ],
   "metadata": {
    "collapsed": true,
    "id": "95oqiwMFba6V",
    "pycharm": {
     "name": "#%%\n"
    }
   },
   "execution_count": null,
   "outputs": []
  },
  {
   "cell_type": "code",
   "metadata": {
    "id": "hLbkwgWdp_iu",
    "colab": {
     "base_uri": "https://localhost:8080/"
    },
    "outputId": "80077909-f3ff-4da7-d782-c184fb82cb8f",
    "pycharm": {
     "name": "#%%\n"
    }
   },
   "source": [
    "import numpy as np\n",
    "from typing import Tuple\n",
    "\n",
    "def bag_of_embeddings(doc: str, embeddings: KeyedVectors) -> np.ndarray:\n",
    "    tokens = tokenize(doc)\n",
    "\n",
    "    ##################################################\n",
    "    vect=[]\n",
    "    for t in tokens:\n",
    "      if t in embeddings:\n",
    "        vect.append(embeddings[t])\n",
    "    ##################################################\n",
    "    doc_vector = np.mean(vect, axis=0)\n",
    "\n",
    "    return doc_vector\n",
    "\n",
    "\n",
    "doc_embedding = bag_of_embeddings(\"Hello world!\", glove)\n",
    "print(f\"Embedding: {doc_embedding}\")\n",
    "print(f\"Shape:     {doc_embedding.shape}\")"
   ],
   "execution_count": 15,
   "outputs": [
    {
     "output_type": "stream",
     "name": "stdout",
     "text": [
      "Embedding: [ 0.41084     0.4957     -0.35982665 -0.40393332 -0.19768667  0.25433\n",
      " -0.51489997  0.086394    0.04418867  0.365309   -0.3562367   0.15675335\n",
      "  0.09240001  0.4017      0.00335334 -0.08881667 -0.37311664  0.5704167\n",
      "  0.04311933  0.34267667  0.47882667  1.489306    0.25857666 -0.19864707\n",
      "  0.10432333  0.125766    0.10343501 -0.28578332 -0.31660533  0.013828\n",
      " -0.07466667  0.13855    -0.32214698 -0.28048036 -0.41403     0.06308667\n",
      " -0.239556   -0.03680335 -0.141137   -0.0916     -0.16916066  0.5716353\n",
      " -0.3125367   0.07347333 -0.16953166  0.20232     0.60658664  0.06445\n",
      " -0.01957001  0.30074     0.21663667 -0.06867133  0.4030467   0.07233366\n",
      " -0.17247333  0.20601167 -0.39144    -0.02245933 -0.17295867 -0.19998033\n",
      "  0.234197   -0.29320666 -0.13344    -0.1644     -0.00662334  0.01097\n",
      " -0.00953534  0.5020967   0.42084002  0.03766001  0.46454334 -0.44661132\n",
      "  0.22226368  0.0327     -0.43126     0.00774    -0.15634833  0.3885993\n",
      " -0.38001335 -0.13208102  0.22859664 -0.39621338  0.24020332  0.41949666\n",
      " -0.6473667  -0.11796334  0.300212   -0.04890667  0.19057    -0.65398\n",
      " -0.09819666  0.09049634 -0.12865366 -0.19084066 -0.30180568  0.07661999\n",
      "  0.03418794 -0.029667   -0.14523333 -0.23192567  0.09882667  0.43341336\n",
      "  0.047808   -0.09808999  0.26746067 -0.234358    0.12239435  0.81658\n",
      " -0.4490467   0.5518833  -0.29156667 -0.33961263  0.30956998  0.06785334\n",
      " -0.4310867   0.300855    0.265036    0.6470366  -0.7136433   0.01400334\n",
      "  0.10547134 -0.07894     0.25629333 -0.21767335  0.250195   -0.59736663\n",
      "  0.2866867  -0.05228667  0.23764335 -0.49035335 -0.45085332 -0.51667\n",
      " -0.01609633 -0.32716    -0.22492333 -0.47330332 -0.15200032  0.20181668\n",
      " -0.24229133  0.18925601 -0.060564   -0.21973099  0.24457999 -0.28706333\n",
      "  0.66340667  0.27743337 -0.49113    -0.26614666 -0.22016667  0.50276667\n",
      "  0.48637667  0.28844333 -0.2935419   0.45673665  0.23382999  0.5161\n",
      " -0.19783266 -0.18264268  0.019692   -0.013066    0.08293099  0.02575266\n",
      " -0.05760333 -0.30384     0.28910998 -0.30737334 -0.07102667 -0.11787966\n",
      " -0.35104668 -0.23236667  0.15019666 -0.01766733  0.6193733   0.16082667\n",
      " -0.11402833  0.14723666 -0.69580334 -0.23911469  0.234387    0.35806334\n",
      "  1.4951667  -0.21275432 -0.30564666  0.17912032 -0.31634    -0.6953034\n",
      "  0.20261668  0.47446966  0.2579     -0.62838    -0.13436668 -0.18600166\n",
      " -0.14682834  0.03335    -0.06864333 -0.24147433 -0.15195    -0.13681023\n",
      " -0.05313335  0.34631002]\n",
      "Shape:     (200,)\n"
     ]
    }
   ]
  },
  {
   "cell_type": "markdown",
   "source": [
    "Розмірність вектора документа не залежить від кількості слів у ньому:"
   ],
   "metadata": {
    "id": "ef2tBQytUvkW",
    "pycharm": {
     "name": "#%% md\n"
    }
   }
  },
  {
   "cell_type": "code",
   "source": [
    "tests = [\n",
    "    \"Hello world\",\n",
    "    \"You can try the best you can. The best you can is good enough.\",\n",
    "]\n",
    "print(\"Розмір    Документ\")\n",
    "print(\"-\" * 80)\n",
    "for s in tests:\n",
    "    shape = bag_of_embeddings(\"Hello world!\", glove).shape\n",
    "    print(f\"{shape}    {s}\")"
   ],
   "metadata": {
    "id": "DNvRbFEoUz4s",
    "colab": {
     "base_uri": "https://localhost:8080/"
    },
    "outputId": "1b87946e-3863-40c1-c50b-c020f9aaa6c0",
    "pycharm": {
     "name": "#%%\n"
    }
   },
   "execution_count": 18,
   "outputs": [
    {
     "output_type": "stream",
     "name": "stdout",
     "text": [
      "Розмір    Документ\n",
      "--------------------------------------------------------------------------------\n",
      "(200,)    Hello world\n",
      "(200,)    You can try the best you can. The best you can is good enough.\n"
     ]
    }
   ]
  },
  {
   "cell_type": "code",
   "source": [
    "lab.checkpoint(\"`Hello world` centroid\", bag_of_embeddings(\"Hello world!\", glove).mean())"
   ],
   "metadata": {
    "id": "xKrsXe7DVPR8",
    "colab": {
     "base_uri": "https://localhost:8080/",
     "height": 35
    },
    "outputId": "0285bc57-db9d-428c-e145-f1b414a8bc9a",
    "pycharm": {
     "name": "#%%\n"
    }
   },
   "execution_count": 19,
   "outputs": [
    {
     "output_type": "execute_result",
     "data": {
      "text/plain": [
       "'0.0046237493'"
      ],
      "application/vnd.google.colaboratory.intrinsic+json": {
       "type": "string"
      }
     },
     "metadata": {},
     "execution_count": 19
    }
   ]
  },
  {
   "cell_type": "markdown",
   "metadata": {
    "id": "xRL0YDoop_iu",
    "pycharm": {
     "name": "#%% md\n"
    }
   },
   "source": [
    "# Векторизація всього корпусу\n",
    "\n",
    "Наступна операція може зайняти пару хвилин:"
   ]
  },
  {
   "cell_type": "code",
   "metadata": {
    "id": "_3YZqlcOvkV3",
    "colab": {
     "base_uri": "https://localhost:8080/"
    },
    "outputId": "40c365ad-e576-4604-d1c0-5ecf944c3d70",
    "pycharm": {
     "name": "#%%\n"
    }
   },
   "source": [
    "!pip install --quiet datasets"
   ],
   "execution_count": 20,
   "outputs": [
    {
     "output_type": "stream",
     "name": "stdout",
     "text": [
      "\u001B[?25l   \u001B[90m━━━━━━━━━━━━━━━━━━━━━━━━━━━━━━━━━━━━━━━━\u001B[0m \u001B[32m0.0/471.6 kB\u001B[0m \u001B[31m?\u001B[0m eta \u001B[36m-:--:--\u001B[0m\r\u001B[2K   \u001B[90m━━━━━━━━━━━━━━━━━━━━━━━━━━━━━━━━━━━━━━━━\u001B[0m \u001B[32m471.6/471.6 kB\u001B[0m \u001B[31m14.4 MB/s\u001B[0m eta \u001B[36m0:00:00\u001B[0m\n",
      "\u001B[?25h\u001B[?25l   \u001B[90m━━━━━━━━━━━━━━━━━━━━━━━━━━━━━━━━━━━━━━━━\u001B[0m \u001B[32m0.0/116.3 kB\u001B[0m \u001B[31m?\u001B[0m eta \u001B[36m-:--:--\u001B[0m\r\u001B[2K   \u001B[90m━━━━━━━━━━━━━━━━━━━━━━━━━━━━━━━━━━━━━━━━\u001B[0m \u001B[32m116.3/116.3 kB\u001B[0m \u001B[31m9.5 MB/s\u001B[0m eta \u001B[36m0:00:00\u001B[0m\n",
      "\u001B[2K   \u001B[90m━━━━━━━━━━━━━━━━━━━━━━━━━━━━━━━━━━━━━━━━\u001B[0m \u001B[32m134.8/134.8 kB\u001B[0m \u001B[31m10.4 MB/s\u001B[0m eta \u001B[36m0:00:00\u001B[0m\n",
      "\u001B[2K   \u001B[90m━━━━━━━━━━━━━━━━━━━━━━━━━━━━━━━━━━━━━━━━\u001B[0m \u001B[32m194.1/194.1 kB\u001B[0m \u001B[31m14.7 MB/s\u001B[0m eta \u001B[36m0:00:00\u001B[0m\n",
      "\u001B[?25h"
     ]
    }
   ]
  },
  {
   "cell_type": "code",
   "metadata": {
    "id": "3QWs_M95p_iu",
    "colab": {
     "base_uri": "https://localhost:8080/",
     "height": 400,
     "referenced_widgets": [
      "c2a7b4e93d074ad2912f1c857eeb3d18",
      "857a33bc5a244041a78de22ed610ef15",
      "aeffcee2070a4c20b3c16dc80891108b",
      "8d2d0de3bc4c413d83dacb7751b23887",
      "b0abf8a8e43844aa9a6ba4d5b90af5d0",
      "a84aa3338de04eb9a4270904dea5a1a3",
      "588d78dcb7ac4d679489544415019181",
      "2c1cc1e6d47e4d288a934ccf884db1be",
      "f988e94b67184e6c95bd261a89b92921",
      "1c5e4376adeb42898acb278ea579127f",
      "c6ff633f38344a24b8296d54219731c0",
      "02eeca3241124556b3d57cc13cf0aa06",
      "19cc5e2932434793bd272978fbc8b01a",
      "12f9616cf18f4e4d8325381245d50c27",
      "6be2b189460a4bccbfa1b5442bf48d73",
      "acd5ecaabd3742d4b32f42ee3b616a96",
      "7a6de968ddf847548ff108bd87ecb980",
      "b535da5d7f2e497bb731bd00e4931c0a",
      "e96b0d4766e748c3b53e3712b24ff45f",
      "414250ab859b49af8a372be58dc8e486",
      "704e1c81bca5494393b7c217b411d9dd",
      "7a35f3faf83041a18f3c9235480e3d3b",
      "95f16a7a721d44498d0d5b1d19aed2a1",
      "c5d949a25b074839b63f1b70317c8a1f",
      "cb2e3907b70f42da8805802127cbae57",
      "628df01c2c3a47c3b0294d5799dd0b56",
      "4d9b9a1eafa14613a04400d687bdff25",
      "a7305483287e403cad970645dd588796",
      "e89b828aa2a44505a3ea966482617ff0",
      "4b6e93844da8423798663ca32d3b649b",
      "13d6e3485c4540fd832fa83067847d17",
      "4ea592430f394257b17f51b4cbbfe92f",
      "28bfa3ac3855492ea9d2c746ded0b0fe",
      "fde919f9934f4e22b662a43472274285",
      "3e0d4fba1b5c4326a6f283a41d18fd60",
      "f048a1a2401849cd8b7ec3b89caf1e86",
      "e021a11bf2174633b3a617b3aee1a834",
      "bf26c3706bf9467f9452438bfb72bad3",
      "b9a42ff1be5243008d860e412456ce15",
      "cbed49f96e40483382747a8a94b88233",
      "a7dc13ac8b9f4c7f9b58916bb0619306",
      "b768bb7a80654dc295ff6ee500edc7de",
      "177a1a846d5440e7b67a774c26ee8b0e",
      "d46b1c9c077a4d9591488b35997345f3",
      "52fbdaf76b4e4b53a4191619a87feef0",
      "a1866c367efa4105ab21c9da64960c3f",
      "4936dfe93d5c495f916a981a9ae65051",
      "b552b96237774851bd6d183776fa5c45",
      "794169c6d1494968bc0258a4e7bd959e",
      "ff7f4a6aca2a4550ae5e50299a554678",
      "bf97c117ea0d4ffc92c7d33d3938217a",
      "4b7013281fb34840a01fc986e67c65d5",
      "ecc601fe017744279752a53253ba49c9",
      "40b62e58ee974209b83d7fdadc251c89",
      "146f1a6a77e44ebb8f550c70ea03fb1d",
      "2f9c35fcf84e42238f1f855805cda28e",
      "21d465c0a0a646aba45656ddf1f7e1ab",
      "bf1b36a048254d5da03e5ca63364bdee",
      "aa86a71abc544c119a498eecf2b57771",
      "71f8ab5593bf4e3bb18f4ec461c9be50",
      "7618c7afd64d4374bd8dd5e216186965",
      "ab72dfaa8363485b930bc84418f3a9da",
      "7598c9b27f37486e95376a826ad8d684",
      "4fe6c9c08fc9467aadbe7a3ca4fd29a9",
      "4d9faf1518fe45f0b01ac9fc12ef3078",
      "d4e3c64afa85405e852fe5def0610b71",
      "91326bb60bcf4873a0c3cad94ce6f8df",
      "592b7c087b3a4a7cb3496038cb11d7e5",
      "a6f1e9bbc1c34198b5520cf0291ab65b",
      "d866dacb29f44c5bb96cbd4df1657ea4",
      "90bd440389ce499c92082f4fed662c98",
      "c09d35e1935b4792a06470acd04be334",
      "09acd15f1cd5445c9fae90c7b11344cc",
      "34ea837ca0db4dffafa6fe24b1cb3ece",
      "07f0bdb42c8d4a0890b6df7f47e124e6",
      "ecf6a52c8c894f428b5f29b7d82535a4",
      "5a6d43d21d804a448df9383f24a46473",
      "12a9c6c50d7740cda56429f494991919",
      "5e71612e44a241c88a030f50dcd82108",
      "7e3ebc38ed7a46d28abd2586fafcedec",
      "74a73b2098964fc9a8ce0debb4ebe804",
      "218aa43030a6424087d5186c4e3cbb01",
      "68388f4984034a7186c8f3973f83bafe",
      "b5d8e772a18c4632b9b88eff7f3525b8",
      "99896d9a3d2f4ac1a61900af509ff3e3",
      "5fee7b6055a64a3a9399f772d6e97eef",
      "0c24f92d770c4bf2afc61cf7a14b5d9e",
      "8991264d70c349918efcfef709678fbe"
     ]
    },
    "outputId": "7a4606a9-2341-4576-c0e0-86736892c427",
    "pycharm": {
     "name": "#%%\n"
    }
   },
   "source": [
    "import datasets\n",
    "imdb = datasets.load_dataset(\"imdb\")\n",
    "\n",
    "valid_data = imdb[\"test\"].shuffle(seed=1).filter(lambda x, i: i < 2000, with_indices=True)  # take 2000 random rows for validation\n",
    "train_data = imdb[\"train\"].shuffle(seed=2)"
   ],
   "execution_count": 21,
   "outputs": [
    {
     "output_type": "stream",
     "name": "stderr",
     "text": [
      "/usr/local/lib/python3.10/dist-packages/huggingface_hub/utils/_token.py:89: UserWarning: \n",
      "The secret `HF_TOKEN` does not exist in your Colab secrets.\n",
      "To authenticate with the Hugging Face Hub, create a token in your settings tab (https://huggingface.co/settings/tokens), set it as secret in your Google Colab and restart your session.\n",
      "You will be able to reuse this secret in all of your notebooks.\n",
      "Please note that authentication is recommended but still optional to access public models or datasets.\n",
      "  warnings.warn(\n"
     ]
    },
    {
     "output_type": "display_data",
     "data": {
      "text/plain": [
       "README.md:   0%|          | 0.00/7.81k [00:00<?, ?B/s]"
      ],
      "application/vnd.jupyter.widget-view+json": {
       "version_major": 2,
       "version_minor": 0,
       "model_id": "c2a7b4e93d074ad2912f1c857eeb3d18"
      }
     },
     "metadata": {}
    },
    {
     "output_type": "display_data",
     "data": {
      "text/plain": [
       "train-00000-of-00001.parquet:   0%|          | 0.00/21.0M [00:00<?, ?B/s]"
      ],
      "application/vnd.jupyter.widget-view+json": {
       "version_major": 2,
       "version_minor": 0,
       "model_id": "02eeca3241124556b3d57cc13cf0aa06"
      }
     },
     "metadata": {}
    },
    {
     "output_type": "display_data",
     "data": {
      "text/plain": [
       "test-00000-of-00001.parquet:   0%|          | 0.00/20.5M [00:00<?, ?B/s]"
      ],
      "application/vnd.jupyter.widget-view+json": {
       "version_major": 2,
       "version_minor": 0,
       "model_id": "95f16a7a721d44498d0d5b1d19aed2a1"
      }
     },
     "metadata": {}
    },
    {
     "output_type": "display_data",
     "data": {
      "text/plain": [
       "unsupervised-00000-of-00001.parquet:   0%|          | 0.00/42.0M [00:00<?, ?B/s]"
      ],
      "application/vnd.jupyter.widget-view+json": {
       "version_major": 2,
       "version_minor": 0,
       "model_id": "fde919f9934f4e22b662a43472274285"
      }
     },
     "metadata": {}
    },
    {
     "output_type": "display_data",
     "data": {
      "text/plain": [
       "Generating train split:   0%|          | 0/25000 [00:00<?, ? examples/s]"
      ],
      "application/vnd.jupyter.widget-view+json": {
       "version_major": 2,
       "version_minor": 0,
       "model_id": "52fbdaf76b4e4b53a4191619a87feef0"
      }
     },
     "metadata": {}
    },
    {
     "output_type": "display_data",
     "data": {
      "text/plain": [
       "Generating test split:   0%|          | 0/25000 [00:00<?, ? examples/s]"
      ],
      "application/vnd.jupyter.widget-view+json": {
       "version_major": 2,
       "version_minor": 0,
       "model_id": "2f9c35fcf84e42238f1f855805cda28e"
      }
     },
     "metadata": {}
    },
    {
     "output_type": "display_data",
     "data": {
      "text/plain": [
       "Generating unsupervised split:   0%|          | 0/50000 [00:00<?, ? examples/s]"
      ],
      "application/vnd.jupyter.widget-view+json": {
       "version_major": 2,
       "version_minor": 0,
       "model_id": "91326bb60bcf4873a0c3cad94ce6f8df"
      }
     },
     "metadata": {}
    },
    {
     "output_type": "display_data",
     "data": {
      "text/plain": [
       "Filter:   0%|          | 0/25000 [00:00<?, ? examples/s]"
      ],
      "application/vnd.jupyter.widget-view+json": {
       "version_major": 2,
       "version_minor": 0,
       "model_id": "12a9c6c50d7740cda56429f494991919"
      }
     },
     "metadata": {}
    }
   ]
  },
  {
   "cell_type": "code",
   "source": [
    "from tqdm import tqdm\n",
    "\n",
    "\n",
    "def vectorize_dataset(dataset: datasets.Dataset) -> Tuple[np.ndarray, np.ndarray]:\n",
    "    \"\"\"Векторізує весь датасет у представлення bag-of-embeddings.\n",
    "\n",
    "    Повертає матрицю ознак X та вектор класів y.\n",
    "    \"\"\"\n",
    "    X = []\n",
    "    for doc in tqdm(dataset):\n",
    "        doc_vector = bag_of_embeddings(doc[\"text\"], glove)\n",
    "        X.append(doc_vector)\n",
    "\n",
    "    X = np.stack(X)\n",
    "    y = np.array(dataset[\"label\"])\n",
    "    return (X, y)"
   ],
   "metadata": {
    "id": "uMDsl8LPUfZ2",
    "pycharm": {
     "name": "#%%\n"
    }
   },
   "execution_count": 22,
   "outputs": []
  },
  {
   "cell_type": "code",
   "metadata": {
    "id": "nxA_y-PPp_iu",
    "colab": {
     "base_uri": "https://localhost:8080/"
    },
    "outputId": "53273de4-36d6-49c9-8289-acd9e1d6971b",
    "pycharm": {
     "name": "#%%\n"
    }
   },
   "source": [
    "X_train_boe, y_train_boe = vectorize_dataset(train_data)\n",
    "X_valid_boe, y_valid_boe = vectorize_dataset(valid_data)\n",
    "lab.checkpoint(\"Vectorized dataset shape\", X_train_boe.shape)\n"
   ],
   "execution_count": 23,
   "outputs": [
    {
     "output_type": "stream",
     "name": "stderr",
     "text": [
      "100%|██████████| 25000/25000 [01:24<00:00, 294.22it/s]\n",
      "100%|██████████| 2000/2000 [00:05<00:00, 375.47it/s]\n"
     ]
    },
    {
     "output_type": "execute_result",
     "data": {
      "text/plain": [
       "(25000, 200)"
      ]
     },
     "metadata": {},
     "execution_count": 23
    }
   ]
  },
  {
   "cell_type": "code",
   "source": [],
   "metadata": {
    "id": "FK-cMukZZqUh",
    "pycharm": {
     "name": "#%%\n"
    }
   },
   "execution_count": null,
   "outputs": []
  },
  {
   "cell_type": "markdown",
   "metadata": {
    "id": "xORrcb8ap_iv",
    "pycharm": {
     "name": "#%% md\n"
    }
   },
   "source": [
    "## Logistic regression + Bag-of-Embeddings\n"
   ]
  },
  {
   "cell_type": "code",
   "source": [
    "# Штучно обмежимо кількість тренувальних прикладів цим значенням.\n",
    "# Так ми емулюємо ситуацію, коли в нас мало тренувальних даних.\n",
    "TRAIN_SIZE = 500"
   ],
   "metadata": {
    "id": "43OKsPYeWlw8",
    "pycharm": {
     "name": "#%%\n"
    }
   },
   "execution_count": 24,
   "outputs": []
  },
  {
   "cell_type": "code",
   "metadata": {
    "id": "Iftv_Jq9p_iv",
    "colab": {
     "base_uri": "https://localhost:8080/"
    },
    "outputId": "0ba968fd-0981-4ebf-9629-8744f8096b05",
    "pycharm": {
     "name": "#%%\n"
    }
   },
   "source": [
    "from sklearn.linear_model import LogisticRegression\n",
    "\n",
    "# Тренуємо логістичну регресію\n",
    "logreg = LogisticRegression(solver=\"liblinear\")\n",
    "\n",
    "logreg.fit(X_train_boe[:TRAIN_SIZE,], y_train_boe[:TRAIN_SIZE,])\n",
    "logreg_acc = logreg.score(X_valid_boe, y_valid_boe)\n",
    "lab.checkpoint(f\"LogReg + BoE accuracy on {TRAIN_SIZE}\", logreg_acc)"
   ],
   "execution_count": 25,
   "outputs": [
    {
     "output_type": "execute_result",
     "data": {
      "text/plain": [
       "0.7325"
      ]
     },
     "metadata": {},
     "execution_count": 25
    }
   ]
  },
  {
   "cell_type": "markdown",
   "source": [
    "## Logistic regression + TF-IDF\n",
    "\n",
    "Натренуємо для порівняння модель на TF-IDF bag-of-ngrams ознаках. Тренувальні дані точнісінько такі, як і у моделі bag-of-embeddings. Але як щодо якості?\n"
   ],
   "metadata": {
    "id": "vJBKiOWBfnr9",
    "pycharm": {
     "name": "#%% md\n"
    }
   }
  },
  {
   "cell_type": "markdown",
   "source": [],
   "metadata": {
    "id": "7N3Dt6IBgGAn",
    "pycharm": {
     "name": "#%% md\n"
    }
   }
  },
  {
   "cell_type": "code",
   "source": [
    "from sklearn.feature_extraction.text import TfidfVectorizer\n",
    "\n",
    "vectorizer = TfidfVectorizer(max_features=5000, ngram_range=(1,2))\n",
    "X_train_bow = vectorizer.fit_transform(train_data[:TRAIN_SIZE][\"text\"])\n",
    "\n",
    "model_tfidf = LogisticRegression(solver='liblinear', C=0.2, penalty=\"l1\")\n",
    "model_tfidf.fit(X_train_bow, train_data[\"label\"][:TRAIN_SIZE])\n",
    "\n",
    "\n",
    "X_valid_bow = vectorizer.transform(valid_data[\"text\"])\n",
    "y_valid_bow = valid_data[\"label\"]\n",
    "tfidf_acc = model_tfidf.score(X_valid_bow, y_valid_bow)\n",
    "lab.checkpoint(f\"LogReg + TF-IDF accuracy on {TRAIN_SIZE}\", tfidf_acc)"
   ],
   "metadata": {
    "colab": {
     "base_uri": "https://localhost:8080/"
    },
    "id": "uwJd8voLdsmP",
    "outputId": "4800a04b-81b0-4d44-dcce-cb145008331e",
    "pycharm": {
     "name": "#%%\n"
    }
   },
   "execution_count": 35,
   "outputs": [
    {
     "output_type": "execute_result",
     "data": {
      "text/plain": [
       "0.5035"
      ]
     },
     "metadata": {},
     "execution_count": 35
    }
   ]
  },
  {
   "cell_type": "markdown",
   "source": [
    "# Завдання\n",
    "\n",
    "Перетренуйте моделі на різних розмірах `TRAIN_SIZE`. Спробуйте кілька значень. Зверніть увагу, як різницю між моделями змінюється в залежності від `TRAIN_SIZE`.\n",
    "\n",
    "❗ Результат (посилання на ваш Google Colab або PDF) відправте на пошту oleksii.o.syvokon@lpnu.ua ❗"
   ],
   "metadata": {
    "id": "UhrxAf4IgT5G",
    "pycharm": {
     "name": "#%% md\n"
    }
   }
  },
  {
   "cell_type": "code",
   "source": [
    "from sklearn.linear_model import LogisticRegression\n",
    "from sklearn.feature_extraction.text import TfidfVectorizer\n",
    "\n",
    "def train_models_with_embeddings_and_tfidf(train_size, X_train_boe, y_train_boe, X_valid_boe, y_valid_boe, train_data, valid_data, lab):\n",
    "    #Логістична регресія Bag-of-Embeddings\n",
    "    logreg = LogisticRegression(solver=\"liblinear\")\n",
    "    logreg.fit(X_train_boe[:train_size,], y_train_boe[:train_size,])\n",
    "    logreg_acc = logreg.score(X_valid_boe, y_valid_boe)\n",
    "\n",
    "    #Логістична регресія на TF-IDF\n",
    "    vectorizer = TfidfVectorizer(max_features=5000, ngram_range=(1, 2))\n",
    "    X_train_bow = vectorizer.fit_transform(train_data[:train_size][\"text\"])\n",
    "    model_tfidf = LogisticRegression(solver='liblinear', C=0.2, penalty=\"l1\")\n",
    "    model_tfidf.fit(X_train_bow, train_data[\"label\"][:train_size])\n",
    "\n",
    "    X_valid_bow = vectorizer.transform(valid_data[\"text\"])\n",
    "    y_valid_bow = valid_data[\"label\"]\n",
    "\n",
    "    tfidf_acc = model_tfidf.score(X_valid_bow, y_valid_bow)\n",
    "\n",
    "    return logreg_acc, tfidf_acc\n"
   ],
   "metadata": {
    "id": "K-I-Ij3_Gzbw",
    "pycharm": {
     "name": "#%%\n"
    }
   },
   "execution_count": 27,
   "outputs": []
  },
  {
   "cell_type": "code",
   "source": [
    "train_size = 1000\n",
    "logreg_acc, tfidf_acc = train_models_with_embeddings_and_tfidf(train_size, X_train_boe, y_train_boe, X_valid_boe, y_valid_boe, train_data, valid_data, lab)\n",
    "print(f\"Logistic Regression (BoE) accuracy: {logreg_acc}\")\n",
    "print(f\"Logistic Regression (TF-IDF) accuracy: {tfidf_acc}\")\n"
   ],
   "metadata": {
    "colab": {
     "base_uri": "https://localhost:8080/"
    },
    "id": "dOCv6ni6fpqZ",
    "outputId": "7daae006-d1bd-42a3-8a3c-0ef1159bb0b3",
    "pycharm": {
     "name": "#%%\n"
    }
   },
   "execution_count": 28,
   "outputs": [
    {
     "output_type": "stream",
     "name": "stdout",
     "text": [
      "Logistic Regression (BoE) accuracy: 0.773\n",
      "Logistic Regression (TF-IDF) accuracy: 0.5035\n"
     ]
    }
   ]
  },
  {
   "cell_type": "code",
   "source": [
    "train_size = 2500\n",
    "logreg_acc, tfidf_acc = train_models_with_embeddings_and_tfidf(train_size, X_train_boe, y_train_boe, X_valid_boe, y_valid_boe, train_data, valid_data, lab)\n",
    "print(f\"Logistic Regression (BoE) accuracy: {logreg_acc}\")\n",
    "print(f\"Logistic Regression (TF-IDF) accuracy: {tfidf_acc}\")\n"
   ],
   "metadata": {
    "colab": {
     "base_uri": "https://localhost:8080/"
    },
    "id": "_IIYT6V0ftvZ",
    "outputId": "a71623a8-28ed-4241-821e-08da09ad77b6",
    "pycharm": {
     "name": "#%%\n"
    }
   },
   "execution_count": 29,
   "outputs": [
    {
     "output_type": "stream",
     "name": "stdout",
     "text": [
      "Logistic Regression (BoE) accuracy: 0.7935\n",
      "Logistic Regression (TF-IDF) accuracy: 0.656\n"
     ]
    }
   ]
  },
  {
   "cell_type": "code",
   "source": [
    "train_size = 5000\n",
    "logreg_acc, tfidf_acc = train_models_with_embeddings_and_tfidf(train_size, X_train_boe, y_train_boe, X_valid_boe, y_valid_boe, train_data, valid_data, lab)\n",
    "print(f\"Logistic Regression (BoE) accuracy: {logreg_acc}\")\n",
    "print(f\"Logistic Regression (TF-IDF) accuracy: {tfidf_acc}\")\n"
   ],
   "metadata": {
    "colab": {
     "base_uri": "https://localhost:8080/"
    },
    "id": "bt0jnPqIfwlo",
    "outputId": "5f94b58b-ccd4-4112-bc7f-8fac57eb9135",
    "pycharm": {
     "name": "#%%\n"
    }
   },
   "execution_count": 30,
   "outputs": [
    {
     "output_type": "stream",
     "name": "stdout",
     "text": [
      "Logistic Regression (BoE) accuracy: 0.803\n",
      "Logistic Regression (TF-IDF) accuracy: 0.7415\n"
     ]
    }
   ]
  },
  {
   "cell_type": "code",
   "source": [
    "train_size = 10000\n",
    "logreg_acc, tfidf_acc = train_models_with_embeddings_and_tfidf(train_size, X_train_boe, y_train_boe, X_valid_boe, y_valid_boe, train_data, valid_data, lab)\n",
    "print(f\"Logistic Regression (BoE) accuracy: {logreg_acc}\")\n",
    "print(f\"Logistic Regression (TF-IDF) accuracy: {tfidf_acc}\")\n"
   ],
   "metadata": {
    "colab": {
     "base_uri": "https://localhost:8080/"
    },
    "id": "DavFEKjofyCF",
    "outputId": "9bc3ca6e-c99f-4221-d44e-9d5012148ee7",
    "pycharm": {
     "name": "#%%\n"
    }
   },
   "execution_count": 31,
   "outputs": [
    {
     "output_type": "stream",
     "name": "stdout",
     "text": [
      "Logistic Regression (BoE) accuracy: 0.805\n",
      "Logistic Regression (TF-IDF) accuracy: 0.8\n"
     ]
    }
   ]
  },
  {
   "cell_type": "code",
   "source": [
    "train_size = 20000\n",
    "logreg_acc, tfidf_acc = train_models_with_embeddings_and_tfidf(train_size, X_train_boe, y_train_boe, X_valid_boe, y_valid_boe, train_data, valid_data, lab)\n",
    "print(f\"Logistic Regression (BoE) accuracy: {logreg_acc}\")\n",
    "print(f\"Logistic Regression (TF-IDF) accuracy: {tfidf_acc}\")\n"
   ],
   "metadata": {
    "colab": {
     "base_uri": "https://localhost:8080/"
    },
    "id": "-mvclwOYf0l4",
    "outputId": "b9bfb489-0864-4bf1-9fdb-6637b30fbcc2",
    "pycharm": {
     "name": "#%%\n"
    }
   },
   "execution_count": 32,
   "outputs": [
    {
     "output_type": "stream",
     "name": "stdout",
     "text": [
      "Logistic Regression (BoE) accuracy: 0.8135\n",
      "Logistic Regression (TF-IDF) accuracy: 0.8295\n"
     ]
    }
   ]
  },
  {
   "cell_type": "code",
   "source": [
    "train_size = 25000\n",
    "logreg_acc, tfidf_acc = train_models_with_embeddings_and_tfidf(train_size, X_train_boe, y_train_boe, X_valid_boe, y_valid_boe, train_data, valid_data, lab)\n",
    "print(f\"Logistic Regression (BoE) accuracy: {logreg_acc}\")\n",
    "print(f\"Logistic Regression (TF-IDF) accuracy: {tfidf_acc}\")\n"
   ],
   "metadata": {
    "colab": {
     "base_uri": "https://localhost:8080/"
    },
    "id": "eHbkGQpAf16S",
    "outputId": "e7ced356-5f88-489a-f730-61c769949c21",
    "pycharm": {
     "name": "#%%\n"
    }
   },
   "execution_count": 33,
   "outputs": [
    {
     "output_type": "stream",
     "name": "stdout",
     "text": [
      "Logistic Regression (BoE) accuracy: 0.8135\n",
      "Logistic Regression (TF-IDF) accuracy: 0.8365\n"
     ]
    }
   ]
  },
  {
   "cell_type": "markdown",
   "source": [
    "Під час використання Bag-of-Embeddings точність на менших наборах нижча ніж при використанні TF-IDF. Але вже після 20000 точність TF-IDF починає підвищуватися. Оскільки embeddings краще працюють з великими даними, де семантичні зв'язки слів стають більш вираженими. Натомість TF-IDF спирається на частотні характеристики слів, що ефективніше на малих наборах даних. Після 20000 точок точність TF-IDF починає підвищуватися, оскільки з більшою кількістю даних модель краще вловлює різницю між текстами."
   ],
   "metadata": {
    "id": "wZI15h9ggHzC",
    "pycharm": {
     "name": "#%% md\n"
    }
   }
  },
  {
   "cell_type": "markdown",
   "metadata": {
    "id": "XVoUZm0lxGds",
    "pycharm": {
     "name": "#%% md\n"
    }
   },
   "source": [
    "# Embeddings matrix\n",
    "\n",
    "Досі для доступу до векторів слів ми користувалися бібліотекою `gensim`, яка надавала нам інтерфейс словника (`dict`).\n",
    "\n",
    "Під капотом, вектори слів зберігаються в одній матриці розмірності $|V| \\times d$, де $|V|$ це розмір словника (скільки слів маємо), а $d$ — розмір вектора слова (в цій лабораторній було $d=200$)"
   ]
  },
  {
   "cell_type": "code",
   "metadata": {
    "id": "f0a3Cxl9iDBn",
    "colab": {
     "base_uri": "https://localhost:8080/"
    },
    "outputId": "9aa9eab0-3c97-4967-ba8c-15b96073bf1f",
    "pycharm": {
     "name": "#%%\n"
    }
   },
   "source": [
    "glove.vectors.shape"
   ],
   "execution_count": 36,
   "outputs": [
    {
     "output_type": "execute_result",
     "data": {
      "text/plain": [
       "(50000, 200)"
      ]
     },
     "metadata": {},
     "execution_count": 36
    }
   ]
  },
  {
   "cell_type": "markdown",
   "metadata": {
    "id": "VybrpjjOkrrR",
    "pycharm": {
     "name": "#%% md\n"
    }
   },
   "source": [
    "В моделях глибинного навчання, як правило, справу мають саме з цією embeddings matrix.\n",
    "\n",
    "Розглянемо два способи отримати вектор потрібного слова з цієї матриці:"
   ]
  },
  {
   "cell_type": "markdown",
   "metadata": {
    "id": "oZGXRCNrlBde",
    "pycharm": {
     "name": "#%% md\n"
    }
   },
   "source": [
    "## Vector-matrix multiplication\n",
    "\n",
    "Перший спосіб, це представити слово з індексом $i$ у вигляді one-hot вектора $o_i$. Тоді ембедінг потрібного слова можна отримати в результаті добутку\n",
    "\n",
    "$$e_i = \\text{E}^\\intercal o_i $$"
   ]
  },
  {
   "cell_type": "code",
   "metadata": {
    "id": "ryDrswVlkoUk",
    "pycharm": {
     "name": "#%%\n"
    }
   },
   "source": [
    "import torch\n",
    "\n",
    "embeddings_matrix = torch.tensor(glove.vectors)\n",
    "\n",
    "def embed(token_index: int, embeddings_matrix: torch.tensor) -> torch.tensor:\n",
    "    vocab_size, embed_dim = embeddings_matrix.shape\n",
    "    one_hot = torch.zeros(vocab_size)\n",
    "    one_hot[token_index] = 1\n",
    "    return one_hot @ embeddings_matrix\n",
    "\n",
    "assert torch.allclose(\n",
    "    embed(42, embeddings_matrix),\n",
    "    torch.tensor(glove.vectors[42]))\n"
   ],
   "execution_count": 43,
   "outputs": []
  },
  {
   "cell_type": "code",
   "metadata": {
    "id": "x0xFJ6DUm6GW",
    "colab": {
     "base_uri": "https://localhost:8080/",
     "height": 35
    },
    "outputId": "3daca42d-545f-4d59-8936-33dd1978930f",
    "pycharm": {
     "name": "#%%\n"
    }
   },
   "source": [
    "lab.checkpoint(\"The embedding of one-hot multiplication\",\n",
    "               embed(42, embeddings_matrix).sum())"
   ],
   "execution_count": 38,
   "outputs": [
    {
     "output_type": "execute_result",
     "data": {
      "text/plain": [
       "'tensor(5.3482)'"
      ],
      "application/vnd.google.colaboratory.intrinsic+json": {
       "type": "string"
      }
     },
     "metadata": {},
     "execution_count": 38
    }
   ]
  },
  {
   "cell_type": "markdown",
   "metadata": {
    "id": "I4vqXSL4m2gF",
    "pycharm": {
     "name": "#%% md\n"
    }
   },
   "source": [
    "## nn.Embedding\n",
    "\n",
    "В PyTorch, як і в більшості deep learning frameworks, є спеціальна функція, яка повертає вектор з потрібним номером: `torch.nn.Embedding`. Вона імплементована більш ефективно, ніж спосіб з vector-matrix multiplication, тож в більшості випадків користуватися варто саме `nn.Embedding`."
   ]
  },
  {
   "cell_type": "code",
   "metadata": {
    "id": "A29kVgWvrr9I",
    "pycharm": {
     "name": "#%%\n"
    }
   },
   "source": [
    "import torch\n",
    "from torch import nn\n",
    "\n",
    "embeddings = nn.Embedding(num_embeddings=50_000, embedding_dim=200, _weight=embeddings_matrix)\n",
    "indexes = torch.LongTensor([42])\n",
    "embedded = embeddings(indexes)\n",
    "\n",
    "assert np.isclose(embedded.sum().item(), glove.vectors[42].sum())"
   ],
   "execution_count": 39,
   "outputs": []
  },
  {
   "cell_type": "code",
   "metadata": {
    "id": "pTBXxCdutJLG",
    "colab": {
     "base_uri": "https://localhost:8080/"
    },
    "outputId": "e9c06412-8e4a-4a98-9837-9d843bd37217",
    "pycharm": {
     "name": "#%%\n"
    }
   },
   "source": [
    "lab.checkpoint(\"nn.Embeddings\", embedded.sum().item())"
   ],
   "execution_count": 40,
   "outputs": [
    {
     "output_type": "execute_result",
     "data": {
      "text/plain": [
       "5.34816837310791"
      ]
     },
     "metadata": {},
     "execution_count": 40
    }
   ]
  },
  {
   "cell_type": "markdown",
   "source": [
    "# Готово!"
   ],
   "metadata": {
    "id": "7U97-goHHZrT",
    "pycharm": {
     "name": "#%% md\n"
    }
   }
  },
  {
   "cell_type": "code",
   "source": [
    "lab.answer(\"ALL DONE! 😊\")"
   ],
   "metadata": {
    "id": "ZUariUJ2HiQ6",
    "colab": {
     "base_uri": "https://localhost:8080/",
     "height": 89
    },
    "outputId": "202a861b-7848-4249-93fe-47c9cc0f7e5d",
    "pycharm": {
     "name": "#%%\n"
    }
   },
   "execution_count": 41,
   "outputs": [
    {
     "output_type": "stream",
     "name": "stdout",
     "text": [
      "Відповідь правильна ✅\n",
      "💪\n",
      "\n"
     ]
    },
    {
     "output_type": "execute_result",
     "data": {
      "text/plain": [
       "'ALL DONE! 😊'"
      ],
      "application/vnd.google.colaboratory.intrinsic+json": {
       "type": "string"
      }
     },
     "metadata": {},
     "execution_count": 41
    }
   ]
  }
 ]
}